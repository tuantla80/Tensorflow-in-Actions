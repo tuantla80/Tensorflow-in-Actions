{
  "nbformat": 4,
  "nbformat_minor": 0,
  "metadata": {
    "kernelspec": {
      "display_name": "Python 3",
      "language": "python",
      "name": "python3"
    },
    "language_info": {
      "codemirror_mode": {
        "name": "ipython",
        "version": 3
      },
      "file_extension": ".py",
      "mimetype": "text/x-python",
      "name": "python",
      "nbconvert_exporter": "python",
      "pygments_lexer": "ipython3",
      "version": "3.7.1"
    },
    "colab": {
      "name": "I. TensorFlow Distributions - 1. Coding Tutorial.ipynb",
      "provenance": []
    }
  },
  "cells": [
    {
      "cell_type": "code",
      "metadata": {
        "colab": {
          "base_uri": "https://localhost:8080/"
        },
        "id": "wK6FACVH6yYF",
        "outputId": "dd12a42d-81e1-41cc-e199-79e8d90df949"
      },
      "source": [
        "import tensorflow as tf\n",
        "import tensorflow_probability as tfp\n",
        "tfd = tfp.distributions\n",
        "\n",
        "print(\"TF version:\", tf.__version__)\n",
        "print(\"TFP version:\", tfp.__version__)"
      ],
      "execution_count": 1,
      "outputs": [
        {
          "output_type": "stream",
          "text": [
            "TF version: 2.4.1\n",
            "TFP version: 0.12.1\n"
          ],
          "name": "stdout"
        }
      ]
    },
    {
      "cell_type": "code",
      "metadata": {
        "id": "nYHzh3DL6yYJ"
      },
      "source": [
        "# Additional imports and setting fixed random seed to have reproducibility\n",
        "\n",
        "import matplotlib.pyplot as plt\n",
        "import numpy as np\n",
        "tf.random.set_seed(123)"
      ],
      "execution_count": 2,
      "outputs": []
    },
    {
      "cell_type": "markdown",
      "metadata": {
        "id": "lXP9p0FJ6yYK"
      },
      "source": [
        "# Tensorflow Distributions"
      ]
    },
    {
      "cell_type": "markdown",
      "metadata": {
        "id": "MEchzekI6yYK"
      },
      "source": [
        "## Coding Tutorials\n",
        "#### 1. [Univariate Distributions](#univariate_distributions)\n",
        "#### 2. [Multivariate Distributions](#multivariate_distributions)\n",
        "#### 3. [The Independent Distribution](#the_independent_distribution)\n",
        "#### 4. [Sampling and log probs](#sampling_and_log_probs)\n",
        "#### 5. [Trainable Distributions](#trainable_distributions)"
      ]
    },
    {
      "cell_type": "markdown",
      "metadata": {
        "id": "oitL7vUq6yYK"
      },
      "source": [
        "***\n",
        "## Univariate distributions\n",
        "<a id='univariate_distributions'></a>"
      ]
    },
    {
      "cell_type": "code",
      "metadata": {
        "colab": {
          "base_uri": "https://localhost:8080/"
        },
        "id": "9yY65Jk36yYK",
        "outputId": "4d952dd7-b027-486d-c580-46c69eedce46"
      },
      "source": [
        "# Create a normal distribution from Tensorflow Distributions\n",
        "normal = tfd.Normal(loc=0, scale=1)\n",
        "normal\n"
      ],
      "execution_count": 3,
      "outputs": [
        {
          "output_type": "execute_result",
          "data": {
            "text/plain": [
              "<tfp.distributions.Normal 'Normal' batch_shape=[] event_shape=[] dtype=float32>"
            ]
          },
          "metadata": {
            "tags": []
          },
          "execution_count": 3
        }
      ]
    },
    {
      "cell_type": "code",
      "metadata": {
        "colab": {
          "base_uri": "https://localhost:8080/"
        },
        "id": "pUfHOmXJ6yYL",
        "outputId": "055d4047-1b07-44b6-8924-b979b721404e"
      },
      "source": [
        "# Sample from the chosen distribution...\n",
        "normal.sample()\n"
      ],
      "execution_count": 4,
      "outputs": [
        {
          "output_type": "execute_result",
          "data": {
            "text/plain": [
              "<tf.Tensor: shape=(), dtype=float32, numpy=-0.8980837>"
            ]
          },
          "metadata": {
            "tags": []
          },
          "execution_count": 4
        }
      ]
    },
    {
      "cell_type": "code",
      "metadata": {
        "colab": {
          "base_uri": "https://localhost:8080/"
        },
        "id": "-zLq30Ni6yYL",
        "outputId": "078f7ef6-e0a7-4827-f298-65d8d71f3b46"
      },
      "source": [
        "# ... or sample multiple times\n",
        "\n",
        "normal.sample(10)"
      ],
      "execution_count": 5,
      "outputs": [
        {
          "output_type": "execute_result",
          "data": {
            "text/plain": [
              "<tf.Tensor: shape=(10,), dtype=float32, numpy=\n",
              "array([ 0.33875433,  0.3449861 , -0.6605785 , -0.2854994 ,  0.43852386,\n",
              "        0.8288566 , -0.53591555, -0.5353483 , -1.0324248 , -2.942705  ],\n",
              "      dtype=float32)>"
            ]
          },
          "metadata": {
            "tags": []
          },
          "execution_count": 5
        }
      ]
    },
    {
      "cell_type": "code",
      "metadata": {
        "colab": {
          "base_uri": "https://localhost:8080/"
        },
        "id": "voIapxRN6yYL",
        "outputId": "352e8498-ce0a-45b1-ef87-fff47a10adb5"
      },
      "source": [
        "# Obtain value of probability's density at x=0\n",
        "\n",
        "normal.prob(0)"
      ],
      "execution_count": 6,
      "outputs": [
        {
          "output_type": "execute_result",
          "data": {
            "text/plain": [
              "<tf.Tensor: shape=(), dtype=float32, numpy=0.3989423>"
            ]
          },
          "metadata": {
            "tags": []
          },
          "execution_count": 6
        }
      ]
    },
    {
      "cell_type": "code",
      "metadata": {
        "colab": {
          "base_uri": "https://localhost:8080/"
        },
        "id": "YHqQKXXY-AHP",
        "outputId": "3ec5b69e-d9d9-41f6-a2c1-40a93fb8898b"
      },
      "source": [
        "1/np.sqrt(2*np.pi)  # mu-0, sigma=1"
      ],
      "execution_count": 7,
      "outputs": [
        {
          "output_type": "execute_result",
          "data": {
            "text/plain": [
              "0.3989422804014327"
            ]
          },
          "metadata": {
            "tags": []
          },
          "execution_count": 7
        }
      ]
    },
    {
      "cell_type": "code",
      "metadata": {
        "colab": {
          "base_uri": "https://localhost:8080/"
        },
        "id": "HnZVvTEM6yYL",
        "outputId": "32830cb0-17cb-4de0-875f-407bc3814a2c"
      },
      "source": [
        "# Obtain value of logprobability\n",
        "normal.log_prob(0)\n"
      ],
      "execution_count": 8,
      "outputs": [
        {
          "output_type": "execute_result",
          "data": {
            "text/plain": [
              "<tf.Tensor: shape=(), dtype=float32, numpy=-0.9189385>"
            ]
          },
          "metadata": {
            "tags": []
          },
          "execution_count": 8
        }
      ]
    },
    {
      "cell_type": "code",
      "metadata": {
        "colab": {
          "base_uri": "https://localhost:8080/"
        },
        "id": "XgPa9ypH6yYL",
        "outputId": "6b8c422a-bac9-4336-9fd9-22f388a9fd98"
      },
      "source": [
        "# Verify that this really is the log of the probability\n",
        "np.log(1/np.sqrt(2*np.pi))  # mu-0, sigma=1\n"
      ],
      "execution_count": 9,
      "outputs": [
        {
          "output_type": "execute_result",
          "data": {
            "text/plain": [
              "-0.9189385332046727"
            ]
          },
          "metadata": {
            "tags": []
          },
          "execution_count": 9
        }
      ]
    },
    {
      "cell_type": "code",
      "metadata": {
        "colab": {
          "base_uri": "https://localhost:8080/",
          "height": 265
        },
        "id": "tv9AhPS26yYM",
        "outputId": "eee5d4b2-c98a-40c0-ef1a-fccf611c08ac"
      },
      "source": [
        "# Plot a histogram, approximating the density\n",
        "\n",
        "plt.hist(normal.sample(10000), bins=50, density=True)\n",
        "plt.show()"
      ],
      "execution_count": 10,
      "outputs": [
        {
          "output_type": "display_data",
          "data": {
            "image/png": "[encoded data removed]",
            "text/plain": [
              "<Figure size 432x288 with 1 Axes>"
            ]
          },
          "metadata": {
            "tags": [],
            "needs_background": "light"
          }
        }
      ]
    },
    {
      "cell_type": "code",
      "metadata": {
        "colab": {
          "base_uri": "https://localhost:8080/",
          "height": 265
        },
        "id": "qneozE-y6yYM",
        "outputId": "c128b691-2faa-490d-da2c-e5d1bb9cfcd3"
      },
      "source": [
        "# Do the same for the exponential distribution\n",
        "\n",
        "exponential = tfd.Exponential(rate=1)\n",
        "plt.hist(exponential.sample(10000), bins=50, density=True)\n",
        "plt.show()"
      ],
      "execution_count": 11,
      "outputs": [
        {
          "output_type": "display_data",
          "data": {
            "image/png": "[encoded data removed]",
            "text/plain": [
              "<Figure size 432x288 with 1 Axes>"
            ]
          },
          "metadata": {
            "tags": [],
            "needs_background": "light"
          }
        }
      ]
    },
    {
      "cell_type": "code",
      "metadata": {
        "colab": {
          "base_uri": "https://localhost:8080/"
        },
        "id": "A3We02EF6yYM",
        "outputId": "51019028-d8e0-4d4a-b0a9-e3d8baf56ab5"
      },
      "source": [
        "# Sample as before\n",
        "exponential.sample(10)\n"
      ],
      "execution_count": 12,
      "outputs": [
        {
          "output_type": "execute_result",
          "data": {
            "text/plain": [
              "<tf.Tensor: shape=(10,), dtype=float32, numpy=\n",
              "array([0.3179616 , 0.9595855 , 0.6190708 , 1.3738598 , 1.6796893 ,\n",
              "       0.40142855, 1.6830153 , 1.78942   , 0.38126466, 0.55283946],\n",
              "      dtype=float32)>"
            ]
          },
          "metadata": {
            "tags": []
          },
          "execution_count": 12
        }
      ]
    },
    {
      "cell_type": "code",
      "metadata": {
        "colab": {
          "base_uri": "https://localhost:8080/"
        },
        "id": "9yCJPAbq6yYM",
        "outputId": "020e9f3d-7622-46d1-8762-fbbab56273d8"
      },
      "source": [
        "# Create a Bernoulli distribution (discrete)\n",
        "\n",
        "bernoulli = tfd.Bernoulli(probs=.8)  # probability of having 1 is 0.8\n",
        "bernoulli.sample(20)"
      ],
      "execution_count": 13,
      "outputs": [
        {
          "output_type": "execute_result",
          "data": {
            "text/plain": [
              "<tf.Tensor: shape=(20,), dtype=int32, numpy=\n",
              "array([0, 1, 1, 0, 0, 1, 1, 0, 1, 1, 1, 0, 1, 1, 1, 0, 1, 0, 1, 1],\n",
              "      dtype=int32)>"
            ]
          },
          "metadata": {
            "tags": []
          },
          "execution_count": 13
        }
      ]
    },
    {
      "cell_type": "code",
      "metadata": {
        "colab": {
          "base_uri": "https://localhost:8080/",
          "height": 265
        },
        "id": "Y65gtS7E_RBs",
        "outputId": "1f163bd8-2ccc-41f1-9069-b186574d8d3f"
      },
      "source": [
        "plt.hist(bernoulli.sample(10000), bins=50, density=True)\r\n",
        "plt.show()"
      ],
      "execution_count": 14,
      "outputs": [
        {
          "output_type": "display_data",
          "data": {
            "image/png": "[encoded data removed]",
            "text/plain": [
              "<Figure size 432x288 with 1 Axes>"
            ]
          },
          "metadata": {
            "tags": [],
            "needs_background": "light"
          }
        }
      ]
    },
    {
      "cell_type": "markdown",
      "metadata": {
        "id": "1VH1IC-y6yYM"
      },
      "source": [
        "#### A word of caution on discrete distributions"
      ]
    },
    {
      "cell_type": "code",
      "metadata": {
        "colab": {
          "base_uri": "https://localhost:8080/"
        },
        "id": "idHQYNZo6yYM",
        "outputId": "c725088c-69c0-4b2f-9d27-2f3d37161523"
      },
      "source": [
        "# Calculate Bernoulli prob and see that 0.5 and -1 do not give the correct probability!\n",
        "\n",
        "for k in [0,0.5,1,-1]:\n",
        "    print('prob result {} for k = {} '.format(bernoulli.prob(k), k))"
      ],
      "execution_count": 15,
      "outputs": [
        {
          "output_type": "stream",
          "text": [
            "prob result 0.19999998807907104 for k = 0 \n",
            "prob result 0.3999999761581421 for k = 0.5 \n",
            "prob result 0.800000011920929 for k = 1 \n",
            "prob result 0.04999999701976776 for k = -1 \n"
          ],
          "name": "stdout"
        }
      ]
    },
    {
      "cell_type": "code",
      "metadata": {
        "id": "3v00IyDk6yYN"
      },
      "source": [
        "# Replicate the scores to see what is occurring under the hood\n",
        "\n",
        "def my_bernoulli(p_success, k):\n",
        "    return np.power(p_success,k)*np.power((1-p_success),(1-k))"
      ],
      "execution_count": 16,
      "outputs": []
    },
    {
      "cell_type": "code",
      "metadata": {
        "colab": {
          "base_uri": "https://localhost:8080/"
        },
        "id": "e5ZF-U9T6yYN",
        "outputId": "ae33b562-6f6f-4d52-84fc-602da224ff90"
      },
      "source": [
        "# Evaluate it as before\n",
        "\n",
        "for k in [0,0.5,1,-1]:\n",
        "    print('prob result {} for k = {} '.format(my_bernoulli(0.8, k), k))"
      ],
      "execution_count": 17,
      "outputs": [
        {
          "output_type": "stream",
          "text": [
            "prob result 0.19999999999999996 for k = 0 \n",
            "prob result 0.3999999999999999 for k = 0.5 \n",
            "prob result 0.8 for k = 1 \n",
            "prob result 0.049999999999999975 for k = -1 \n"
          ],
          "name": "stdout"
        }
      ]
    },
    {
      "cell_type": "markdown",
      "metadata": {
        "id": "olJcoxDu6yYN"
      },
      "source": [
        "#### Work with batch distributions"
      ]
    },
    {
      "cell_type": "code",
      "metadata": {
        "colab": {
          "base_uri": "https://localhost:8080/"
        },
        "id": "gpMOiFMm6yYN",
        "outputId": "1f78dd01-f10e-454a-dc52-f573526ad6e1"
      },
      "source": [
        "# Create a batched Bernoulli distribution\n",
        "\n",
        "bernoulli_batch = tfd.Bernoulli(probs=[0.1, 0.25, 0.5, 0.75, 0.9])\n",
        "bernoulli_batch"
      ],
      "execution_count": 18,
      "outputs": [
        {
          "output_type": "execute_result",
          "data": {
            "text/plain": [
              "<tfp.distributions.Bernoulli 'Bernoulli' batch_shape=[5] event_shape=[] dtype=int32>"
            ]
          },
          "metadata": {
            "tags": []
          },
          "execution_count": 18
        }
      ]
    },
    {
      "cell_type": "code",
      "metadata": {
        "colab": {
          "base_uri": "https://localhost:8080/"
        },
        "id": "p35Yz2X26yYN",
        "outputId": "8fd78f57-2abf-4e57-f506-980b984fa3af"
      },
      "source": [
        "# Sample from it, noting the shape\n",
        "\n",
        "bernoulli_batch.sample(5)"
      ],
      "execution_count": 19,
      "outputs": [
        {
          "output_type": "execute_result",
          "data": {
            "text/plain": [
              "<tf.Tensor: shape=(5, 5), dtype=int32, numpy=\n",
              "array([[0, 0, 1, 1, 1],\n",
              "       [0, 0, 0, 1, 1],\n",
              "       [0, 0, 1, 1, 1],\n",
              "       [1, 0, 1, 1, 1],\n",
              "       [0, 0, 1, 1, 1]], dtype=int32)>"
            ]
          },
          "metadata": {
            "tags": []
          },
          "execution_count": 19
        }
      ]
    },
    {
      "cell_type": "code",
      "metadata": {
        "colab": {
          "base_uri": "https://localhost:8080/"
        },
        "id": "tozAxBKo6yYN",
        "outputId": "08384272-7efc-433f-f904-24e16610465f"
      },
      "source": [
        "# Use a batch shape with higher rank\n",
        "\n",
        "probs = [[[0.5, 0.5], \n",
        "          [0.8, 0.3], \n",
        "          [0.25, 0.75]]]\n",
        "bernoulli_batch_2D = tfd.Bernoulli(probs=probs)\n",
        "bernoulli_batch_2D"
      ],
      "execution_count": 20,
      "outputs": [
        {
          "output_type": "execute_result",
          "data": {
            "text/plain": [
              "<tfp.distributions.Bernoulli 'Bernoulli' batch_shape=[1, 3, 2] event_shape=[] dtype=int32>"
            ]
          },
          "metadata": {
            "tags": []
          },
          "execution_count": 20
        }
      ]
    },
    {
      "cell_type": "code",
      "metadata": {
        "colab": {
          "base_uri": "https://localhost:8080/"
        },
        "id": "534anyrx6yYO",
        "outputId": "52eaa8d8-f624-4ff9-f448-19ee8c2cb578"
      },
      "source": [
        "# Sample from this batch of distributions\n",
        "\n",
        "bernoulli_batch_2D.sample(5)"
      ],
      "execution_count": 21,
      "outputs": [
        {
          "output_type": "execute_result",
          "data": {
            "text/plain": [
              "<tf.Tensor: shape=(5, 1, 3, 2), dtype=int32, numpy=\n",
              "array([[[[0, 1],\n",
              "         [0, 0],\n",
              "         [0, 1]]],\n",
              "\n",
              "\n",
              "       [[[0, 0],\n",
              "         [0, 0],\n",
              "         [0, 1]]],\n",
              "\n",
              "\n",
              "       [[[1, 0],\n",
              "         [0, 1],\n",
              "         [1, 0]]],\n",
              "\n",
              "\n",
              "       [[[0, 0],\n",
              "         [0, 1],\n",
              "         [0, 0]]],\n",
              "\n",
              "\n",
              "       [[[1, 1],\n",
              "         [0, 0],\n",
              "         [0, 1]]]], dtype=int32)>"
            ]
          },
          "metadata": {
            "tags": []
          },
          "execution_count": 21
        }
      ]
    },
    {
      "cell_type": "code",
      "metadata": {
        "colab": {
          "base_uri": "https://localhost:8080/"
        },
        "id": "vl3oQKbk6yYO",
        "outputId": "abea2683-d9a5-4a3b-a21f-909049f00bad"
      },
      "source": [
        "# Determine probabilities from this batch distribution\n",
        "\n",
        "bernoulli_batch_2D.prob([[[1, 0], \n",
        "                         [0, 0], \n",
        "                         [1, 1]]])"
      ],
      "execution_count": 22,
      "outputs": [
        {
          "output_type": "execute_result",
          "data": {
            "text/plain": [
              "<tf.Tensor: shape=(1, 3, 2), dtype=float32, numpy=\n",
              "array([[[0.5       , 0.5       ],\n",
              "        [0.19999999, 0.7       ],\n",
              "        [0.25      , 0.75      ]]], dtype=float32)>"
            ]
          },
          "metadata": {
            "tags": []
          },
          "execution_count": 22
        }
      ]
    },
    {
      "cell_type": "markdown",
      "metadata": {
        "id": "MidNNqfJ6yYO"
      },
      "source": [
        "***\n",
        "<a id='multivariate_distributions'></a>\n",
        "## Multivariate Distributions\n"
      ]
    },
    {
      "cell_type": "markdown",
      "metadata": {
        "id": "s-M92iU46yYO"
      },
      "source": [
        "#### Basic multivariate distributions"
      ]
    },
    {
      "cell_type": "code",
      "metadata": {
        "colab": {
          "base_uri": "https://localhost:8080/"
        },
        "id": "eGvi4UeL6yYO",
        "outputId": "0b2a441f-35f9-4788-d565-dba3ee341657"
      },
      "source": [
        "# Define 2D multivariate Gaussian with diagonal covariance matrix\n",
        "\n",
        "normal_diag = tfd.MultivariateNormalDiag(loc=[0, 1], scale_diag=[1, 2])\n",
        "normal_diag"
      ],
      "execution_count": 23,
      "outputs": [
        {
          "output_type": "execute_result",
          "data": {
            "text/plain": [
              "<tfp.distributions.MultivariateNormalDiag 'MultivariateNormalDiag' batch_shape=[] event_shape=[2] dtype=float32>"
            ]
          },
          "metadata": {
            "tags": []
          },
          "execution_count": 23
        }
      ]
    },
    {
      "cell_type": "code",
      "metadata": {
        "colab": {
          "base_uri": "https://localhost:8080/"
        },
        "id": "n6RcK2lF6yYO",
        "outputId": "21c517ab-b261-4af1-d505-11c96d956384"
      },
      "source": [
        "# Sample from it\n",
        "\n",
        "normal_diag.sample(10)"
      ],
      "execution_count": 24,
      "outputs": [
        {
          "output_type": "execute_result",
          "data": {
            "text/plain": [
              "<tf.Tensor: shape=(10, 2), dtype=float32, numpy=\n",
              "array([[-0.48958328,  2.889566  ],\n",
              "       [-0.50546694,  0.9930791 ],\n",
              "       [ 1.300877  ,  1.770391  ],\n",
              "       [-2.9889584 ,  2.2526274 ],\n",
              "       [-0.8891398 ,  1.9469274 ],\n",
              "       [-1.5844265 , -1.2503903 ],\n",
              "       [-1.0179803 ,  1.302659  ],\n",
              "       [-0.09586073,  1.3923955 ],\n",
              "       [-0.3122441 ,  2.9065297 ],\n",
              "       [ 0.39839435,  0.40829754]], dtype=float32)>"
            ]
          },
          "metadata": {
            "tags": []
          },
          "execution_count": 24
        }
      ]
    },
    {
      "cell_type": "code",
      "metadata": {
        "colab": {
          "base_uri": "https://localhost:8080/",
          "height": 265
        },
        "id": "1V39vqP26yYO",
        "outputId": "f82f86e5-9ddc-4d91-97b1-60317636dcb1"
      },
      "source": [
        "# Make a plot\n",
        "\n",
        "plt_sample = normal_diag.sample(10000)\n",
        "plt.scatter(plt_sample[:, 0], plt_sample[:, 1], marker='.', alpha=0.05)\n",
        "plt.axis('equal')\n",
        "plt.show()"
      ],
      "execution_count": 25,
      "outputs": [
        {
          "output_type": "display_data",
          "data": {
            "image/png": "[encoded data removed]",
            "text/plain": [
              "<Figure size 432x288 with 1 Axes>"
            ]
          },
          "metadata": {
            "tags": [],
            "needs_background": "light"
          }
        }
      ]
    },
    {
      "cell_type": "markdown",
      "metadata": {
        "id": "LYK7WoYz6yYP"
      },
      "source": [
        "#### Batches of multivariate distributions"
      ]
    },
    {
      "cell_type": "code",
      "metadata": {
        "colab": {
          "base_uri": "https://localhost:8080/"
        },
        "id": "bAiN1ChM6yYP",
        "outputId": "6d3e9e78-7a75-4b78-dee3-d9b0d86bd9d6"
      },
      "source": [
        "# Create three \"batches\" of multivariate normals\n",
        "\n",
        "normal_diag_batch = tfd.MultivariateNormalDiag(loc=[[0, 0], [0, 0], [0, 0]],\n",
        "                                              scale_diag=[[1, 2], [2, 1], [2, 2]])\n",
        "normal_diag_batch"
      ],
      "execution_count": 26,
      "outputs": [
        {
          "output_type": "execute_result",
          "data": {
            "text/plain": [
              "<tfp.distributions.MultivariateNormalDiag 'MultivariateNormalDiag' batch_shape=[3] event_shape=[2] dtype=float32>"
            ]
          },
          "metadata": {
            "tags": []
          },
          "execution_count": 26
        }
      ]
    },
    {
      "cell_type": "code",
      "metadata": {
        "colab": {
          "base_uri": "https://localhost:8080/"
        },
        "id": "CjHGIlvs6yYP",
        "outputId": "41c4ac77-9ceb-4f72-8b23-180cd8b6e5f5"
      },
      "source": [
        "# Sample from it\n",
        "samples = normal_diag_batch.sample(5)\n",
        "samples\n"
      ],
      "execution_count": 27,
      "outputs": [
        {
          "output_type": "execute_result",
          "data": {
            "text/plain": [
              "<tf.Tensor: shape=(5, 3, 2), dtype=float32, numpy=\n",
              "array([[[-1.1651201 , -3.7979991 ],\n",
              "        [-0.64370716,  0.3941037 ],\n",
              "        [ 0.84133923, -0.04263435]],\n",
              "\n",
              "       [[-0.23954919, -1.046546  ],\n",
              "        [ 0.04739967,  0.09709785],\n",
              "        [ 5.0235534 ,  1.6896133 ]],\n",
              "\n",
              "       [[ 0.26128542,  1.0790778 ],\n",
              "        [ 0.76616985, -0.34711298],\n",
              "        [ 1.2752818 , -0.5495769 ]],\n",
              "\n",
              "       [[ 1.809224  , -1.909243  ],\n",
              "        [-2.3915994 ,  1.3536272 ],\n",
              "        [-2.06593   , -0.01366107]],\n",
              "\n",
              "       [[ 1.1137108 , -2.1181989 ],\n",
              "        [-1.4365606 , -0.5291076 ],\n",
              "        [ 0.5901614 , -1.8864738 ]]], dtype=float32)>"
            ]
          },
          "metadata": {
            "tags": []
          },
          "execution_count": 27
        }
      ]
    },
    {
      "cell_type": "code",
      "metadata": {
        "colab": {
          "base_uri": "https://localhost:8080/"
        },
        "id": "GNzqwDa-6yYP",
        "outputId": "53334209-0265-488e-cbc8-0691c10e1801"
      },
      "source": [
        "# Compute log probs\n",
        "\n",
        "normal_diag_batch.log_prob(samples)"
      ],
      "execution_count": 28,
      "outputs": [
        {
          "output_type": "execute_result",
          "data": {
            "text/plain": [
              "<tf.Tensor: shape=(5, 3), dtype=float32, numpy=\n",
              "array([[-5.0128765, -2.660478 , -3.31288  ],\n",
              "       [-2.6966233, -2.536019 , -6.735532 ],\n",
              "       [-2.7107103, -2.664645 , -3.4652188],\n",
              "       [-4.6233215, -4.162146 , -3.757703 ],\n",
              "       [-3.7120457, -2.928965 , -3.7125556]], dtype=float32)>"
            ]
          },
          "metadata": {
            "tags": []
          },
          "execution_count": 28
        }
      ]
    },
    {
      "cell_type": "code",
      "metadata": {
        "colab": {
          "base_uri": "https://localhost:8080/"
        },
        "id": "IwAR87226yYP",
        "outputId": "86d91e78-a273-43c5-b8af-65d531d99dfb"
      },
      "source": [
        "# Create a sample for a plot -- notice the shape\n",
        "\n",
        "plt_sample_batch = normal_diag_batch.sample(10000)\n",
        "plt_sample_batch.shape"
      ],
      "execution_count": 29,
      "outputs": [
        {
          "output_type": "execute_result",
          "data": {
            "text/plain": [
              "TensorShape([10000, 3, 2])"
            ]
          },
          "metadata": {
            "tags": []
          },
          "execution_count": 29
        }
      ]
    },
    {
      "cell_type": "code",
      "metadata": {
        "colab": {
          "base_uri": "https://localhost:8080/",
          "height": 227
        },
        "id": "bF2XeeRk6yYP",
        "outputId": "a015a85f-0065-4e65-fcdb-faf0f937d7c1"
      },
      "source": [
        "# Plot samples from the batched multivariate Gaussian\n",
        "\n",
        "fig, axs = (plt.subplots(1, 3, sharex=True, sharey=True, figsize=(10, 3)))\n",
        "titles = ['cov_diag=[1, 2]','cov_diag=[2, 1]', 'cov_diag=[2, 2]']\n",
        "\n",
        "for i, (ax, title) in enumerate(zip(axs,titles)):\n",
        "    samples = plt_sample_batch[:,i,:] #take the ith batch [samples x event_shape]\n",
        "    ax.scatter(samples[:, 0], samples[:, 1], marker='.', alpha=0.05)\n",
        "    ax.set_title(title)\n",
        "plt.show()"
      ],
      "execution_count": 30,
      "outputs": [
        {
          "output_type": "display_data",
          "data": {
            "image/png": "[encoded data removed]",
            "text/plain": [
              "<Figure size 720x216 with 3 Axes>"
            ]
          },
          "metadata": {
            "tags": [],
            "needs_background": "light"
          }
        }
      ]
    },
    {
      "cell_type": "markdown",
      "metadata": {
        "id": "ZaV2UhzU6yYP"
      },
      "source": [
        "\n",
        "\n",
        "***\n",
        "<a id='the_independent_distribution'></a>\n",
        "## The Independent Distribution"
      ]
    },
    {
      "cell_type": "code",
      "metadata": {
        "id": "PpoeA1Lo6yYQ"
      },
      "source": [
        "# Start by defining a batch of two univariate Gaussians, then\n",
        "# combine them into a bivariate Gaussian with independent components\n",
        "locs = [-1, 1]\n",
        "scales = [0.5, 1.]\n",
        "batch_of_normals = tfd.Normal(loc=locs, scale=scales)"
      ],
      "execution_count": 31,
      "outputs": []
    },
    {
      "cell_type": "code",
      "metadata": {
        "colab": {
          "base_uri": "https://localhost:8080/",
          "height": 372
        },
        "id": "zrPZSIMA6yYQ",
        "outputId": "c791e7f7-bc9a-4811-db41-130589194365"
      },
      "source": [
        "# Univariate density functions\n",
        "\n",
        "import seaborn as sns\n",
        "\n",
        "t = np.linspace(-4, 4, 10000)\n",
        "densities = batch_of_normals.prob(np.repeat(t[:, np.newaxis], 2, axis=1)) # each column is a vector of densities for one distn\n",
        "\n",
        "sns.lineplot(t, densities[:, 0], label='loc={}, scale={}'.format(locs[0], scales[0]))\n",
        "sns.lineplot(t, densities[:, 1], label='loc={}, scale={}'.format(locs[1], scales[1]))\n",
        "plt.ylabel('Probability density')\n",
        "plt.xlabel('Value')\n",
        "plt.legend()\n",
        "plt.show()"
      ],
      "execution_count": 32,
      "outputs": [
        {
          "output_type": "stream",
          "text": [
            "/usr/local/lib/python3.7/dist-packages/seaborn/_decorators.py:43: FutureWarning: Pass the following variables as keyword args: x, y. From version 0.12, the only valid positional argument will be `data`, and passing other arguments without an explicit keyword will result in an error or misinterpretation.\n",
            "  FutureWarning\n",
            "/usr/local/lib/python3.7/dist-packages/seaborn/_decorators.py:43: FutureWarning: Pass the following variables as keyword args: x, y. From version 0.12, the only valid positional argument will be `data`, and passing other arguments without an explicit keyword will result in an error or misinterpretation.\n",
            "  FutureWarning\n"
          ],
          "name": "stderr"
        },
        {
          "output_type": "display_data",
          "data": {
            "image/png": "[encoded data removed]",
            "text/plain": [
              "<Figure size 432x288 with 1 Axes>"
            ]
          },
          "metadata": {
            "tags": [],
            "needs_background": "light"
          }
        }
      ]
    },
    {
      "cell_type": "code",
      "metadata": {
        "colab": {
          "base_uri": "https://localhost:8080/"
        },
        "id": "gG7NtqxP6yYQ",
        "outputId": "662a5f72-6326-4b63-df20-116980bdc2c2"
      },
      "source": [
        "# Check their batch_shape and event_shape\n",
        "\n",
        "batch_of_normals"
      ],
      "execution_count": 33,
      "outputs": [
        {
          "output_type": "execute_result",
          "data": {
            "text/plain": [
              "<tfp.distributions.Normal 'Normal' batch_shape=[2] event_shape=[] dtype=float32>"
            ]
          },
          "metadata": {
            "tags": []
          },
          "execution_count": 33
        }
      ]
    },
    {
      "cell_type": "code",
      "metadata": {
        "id": "jgCF86f46yYQ"
      },
      "source": [
        "# Use Independent to convert the batch shape to the event shape\n",
        "\n",
        "bivariate_normal_from_Independent = tfd.Independent(batch_of_normals,\n",
        "                                                    reinterpreted_batch_ndims=1)"
      ],
      "execution_count": 34,
      "outputs": []
    },
    {
      "cell_type": "code",
      "metadata": {
        "colab": {
          "base_uri": "https://localhost:8080/"
        },
        "id": "wNadvpaY6yYQ",
        "outputId": "ce8748f5-46f0-460d-cebf-58f3076db952"
      },
      "source": [
        "# Note that dimension from batch_shape has shifted to event_shape\n",
        "\n",
        "bivariate_normal_from_Independent"
      ],
      "execution_count": 35,
      "outputs": [
        {
          "output_type": "execute_result",
          "data": {
            "text/plain": [
              "<tfp.distributions.Independent 'IndependentNormal' batch_shape=[] event_shape=[2] dtype=float32>"
            ]
          },
          "metadata": {
            "tags": []
          },
          "execution_count": 35
        }
      ]
    },
    {
      "cell_type": "code",
      "metadata": {
        "colab": {
          "base_uri": "https://localhost:8080/",
          "height": 515
        },
        "id": "XwXwIhr76yYQ",
        "outputId": "8e97f150-2939-47d9-be9d-5f8997dafcad"
      },
      "source": [
        "# Create a plot showing joint density contours and marginal density functions\n",
        "\n",
        "samples = bivariate_normal_from_Independent.sample(10000)\n",
        "x1 = samples[:, 0]\n",
        "x2 = samples[:, 1]\n",
        "sns.jointplot(x1, x2, kind=\"kde\", space=0, color='b', xlim=[-4, 4], ylim=[-4, 4])"
      ],
      "execution_count": 36,
      "outputs": [
        {
          "output_type": "stream",
          "text": [
            "/usr/local/lib/python3.7/dist-packages/seaborn/_decorators.py:43: FutureWarning: Pass the following variables as keyword args: x, y. From version 0.12, the only valid positional argument will be `data`, and passing other arguments without an explicit keyword will result in an error or misinterpretation.\n",
            "  FutureWarning\n"
          ],
          "name": "stderr"
        },
        {
          "output_type": "execute_result",
          "data": {
            "text/plain": [
              "<seaborn.axisgrid.JointGrid at 0x7f07630ae1d0>"
            ]
          },
          "metadata": {
            "tags": []
          },
          "execution_count": 36
        },
        {
          "output_type": "display_data",
          "data": {
            "image/png": "[encoded data removed]",
            "text/plain": [
              "<Figure size 432x432 with 3 Axes>"
            ]
          },
          "metadata": {
            "tags": [],
            "needs_background": "light"
          }
        }
      ]
    },
    {
      "cell_type": "code",
      "metadata": {
        "id": "ptpnjwmH6yYQ"
      },
      "source": [
        "# Use MultivariateNormalDiag to create the equivalent distribution\n",
        "# Note that diagonal covariance matrix => no correlation => independence (for the multivariate normal distribution)\n",
        "\n",
        "bivariate_normal_from_Multivariate = tfd.MultivariateNormalDiag(loc=locs,\n",
        "                                                                scale_diag=scales)"
      ],
      "execution_count": 37,
      "outputs": []
    },
    {
      "cell_type": "code",
      "metadata": {
        "colab": {
          "base_uri": "https://localhost:8080/",
          "height": 515
        },
        "id": "l9mNUBzz6yYR",
        "outputId": "3be5213c-f751-4a54-c6cc-48a18b1f646c"
      },
      "source": [
        "# Plot the joint density function of bivariate_normal_from_Independent\n",
        "# Refer back to bivariate_normal_from_Independent to show that the plot is the same\n",
        "# Summarise how Independent has been used\n",
        "\n",
        "samples = bivariate_normal_from_Multivariate.sample(10000)\n",
        "x1 = samples[:, 0]\n",
        "x2 = samples[:, 1]\n",
        "sns.jointplot(x1, x2, kind=\"kde\", space=0, color='b', xlim=[-4, 4], ylim=[-4, 4])"
      ],
      "execution_count": 38,
      "outputs": [
        {
          "output_type": "stream",
          "text": [
            "/usr/local/lib/python3.7/dist-packages/seaborn/_decorators.py:43: FutureWarning: Pass the following variables as keyword args: x, y. From version 0.12, the only valid positional argument will be `data`, and passing other arguments without an explicit keyword will result in an error or misinterpretation.\n",
            "  FutureWarning\n"
          ],
          "name": "stderr"
        },
        {
          "output_type": "execute_result",
          "data": {
            "text/plain": [
              "<seaborn.axisgrid.JointGrid at 0x7f075b956650>"
            ]
          },
          "metadata": {
            "tags": []
          },
          "execution_count": 38
        },
        {
          "output_type": "display_data",
          "data": {
            "image/png": "[encoded data removed]",
            "text/plain": [
              "<Figure size 432x432 with 3 Axes>"
            ]
          },
          "metadata": {
            "tags": [],
            "needs_background": "light"
          }
        }
      ]
    },
    {
      "cell_type": "markdown",
      "metadata": {
        "id": "DgWuK3-g6yYR"
      },
      "source": [
        "#### Shifting batch dimensions to event dimensions using \n",
        "`reinterpreted_batch_ndims`"
      ]
    },
    {
      "cell_type": "code",
      "metadata": {
        "id": "0z-lKIuf6yYR"
      },
      "source": [
        "# Demonstrate use of reinterpreted_batch_ndims\n",
        "# By default all batch dims except the first are transferred to event dims\n",
        "\n",
        "loc_grid = [[-100., -100.],\n",
        "            [100., 100.],\n",
        "            [0., 0.]]\n",
        "scale_grid = [[1., 10.],\n",
        "              [1., 10.],\n",
        "              [1., 1.]]\n",
        "\n",
        "normals_batch_3by2_event_1 = tfd.Normal(loc=loc_grid, scale=scale_grid)"
      ],
      "execution_count": 39,
      "outputs": []
    },
    {
      "cell_type": "code",
      "metadata": {
        "colab": {
          "base_uri": "https://localhost:8080/"
        },
        "id": "mGWN5OrK6yYR",
        "outputId": "a81dae7c-5cb1-4f6c-b683-4cdc04455478"
      },
      "source": [
        "# Highlight batch_shape\n",
        "\n",
        "normals_batch_3by2_event_1"
      ],
      "execution_count": 40,
      "outputs": [
        {
          "output_type": "execute_result",
          "data": {
            "text/plain": [
              "<tfp.distributions.Normal 'Normal' batch_shape=[3, 2] event_shape=[] dtype=float32>"
            ]
          },
          "metadata": {
            "tags": []
          },
          "execution_count": 40
        }
      ]
    },
    {
      "cell_type": "code",
      "metadata": {
        "colab": {
          "base_uri": "https://localhost:8080/"
        },
        "id": "kMwRcaAq6yYR",
        "outputId": "bb3e333c-ec82-4927-a67c-faca8eb51b91"
      },
      "source": [
        "# We now have a batch of 3 bivariate normal distributions,\n",
        "# each parametrised by a column of our original parameter grid\n",
        "\n",
        "normals_batch_3_event_2 =tfd.Independent(normals_batch_3by2_event_1)\n",
        "normals_batch_3_event_2"
      ],
      "execution_count": 41,
      "outputs": [
        {
          "output_type": "execute_result",
          "data": {
            "text/plain": [
              "<tfp.distributions.Independent 'IndependentNormal' batch_shape=[3] event_shape=[2] dtype=float32>"
            ]
          },
          "metadata": {
            "tags": []
          },
          "execution_count": 41
        }
      ]
    },
    {
      "cell_type": "code",
      "metadata": {
        "colab": {
          "base_uri": "https://localhost:8080/"
        },
        "id": "_0CjA39A6yYR",
        "outputId": "b96b61eb-2fe4-47df-8d25-d4ba427e16d4"
      },
      "source": [
        "# Evaluate log_prob\n",
        "\n",
        "normals_batch_3_event_2.log_prob(value=[[-10., 10,],\n",
        "                                        [100., 100],\n",
        "                                        [1., 1.]])"
      ],
      "execution_count": 42,
      "outputs": [
        {
          "output_type": "execute_result",
          "data": {
            "text/plain": [
              "<tf.Tensor: shape=(3,), dtype=float32, numpy=array([-4.1146406e+03, -4.1404624e+00, -2.8378770e+00], dtype=float32)>"
            ]
          },
          "metadata": {
            "tags": []
          },
          "execution_count": 42
        }
      ]
    },
    {
      "cell_type": "code",
      "metadata": {
        "colab": {
          "base_uri": "https://localhost:8080/"
        },
        "id": "RdW0uoNV6yYR",
        "outputId": "0f184d5a-ae38-4ae0-fb00-b01f0f30886c"
      },
      "source": [
        "# Can reinterpret _all_ batch dimensions as event dimensions\n",
        "\n",
        "normals_batch_1_event_3by2 = tfd.Independent(normals_batch_3by2_event_1,\n",
        "                                             reinterpreted_batch_ndims=2)\n",
        "normals_batch_1_event_3by2"
      ],
      "execution_count": 43,
      "outputs": [
        {
          "output_type": "execute_result",
          "data": {
            "text/plain": [
              "<tfp.distributions.Independent 'IndependentNormal' batch_shape=[] event_shape=[3, 2] dtype=float32>"
            ]
          },
          "metadata": {
            "tags": []
          },
          "execution_count": 43
        }
      ]
    },
    {
      "cell_type": "code",
      "metadata": {
        "colab": {
          "base_uri": "https://localhost:8080/"
        },
        "id": "qZDqo7fB6yYS",
        "outputId": "c095cbfe-59d9-4ed0-eb99-b4480a2d2e72"
      },
      "source": [
        "# Take log_probs \n",
        "normals_batch_1_event_3by2.log_prob(value=[[-10., 10,],\n",
        "                                           [100., 100],\n",
        "                                           [1., 1.]])\n"
      ],
      "execution_count": 44,
      "outputs": [
        {
          "output_type": "execute_result",
          "data": {
            "text/plain": [
              "<tf.Tensor: shape=(), dtype=float32, numpy=-4121.619>"
            ]
          },
          "metadata": {
            "tags": []
          },
          "execution_count": 44
        }
      ]
    },
    {
      "cell_type": "markdown",
      "metadata": {
        "id": "iYFNyICE6yYS"
      },
      "source": [
        "#### Using `Independent` to build a Naive Bayes classifier"
      ]
    },
    {
      "cell_type": "markdown",
      "metadata": {
        "id": "Qz-j4WDQ6yYS"
      },
      "source": [
        "#### Introduction to `newsgroups` data set"
      ]
    },
    {
      "cell_type": "markdown",
      "metadata": {
        "id": "pJDwu_Ml6yYS"
      },
      "source": [
        "In this tutorial, just load the dataset, fetch train/test splits, probably choose a subset of the data.\n",
        "\n",
        "Construct the class conditional feature distribution (with Independent, using the Naive Bayes assumption) and sample from it.\n",
        "\n",
        "We can just use the ML estimates for parameters, in later tutorials we will learn them."
      ]
    },
    {
      "cell_type": "code",
      "metadata": {
        "id": "-xmNvDgn6yYS"
      },
      "source": [
        "# Convenience function for retrieving the 20 newsgroups data set\n",
        "\n",
        "# Usenet was a forerunner to modern internet forums\n",
        "# Users could post and read articles\n",
        "# Newsgroup corresponded to a topic\n",
        "# Example topics in this data set: IBM computer hardware, baseball\n",
        "# Our objective is to use an article's contents to predict its newsgroup,\n",
        "# a 20-class classification problem.\n",
        "\n",
        "# 18000 newsgroups, posts on 20 topics\n",
        "from sklearn.datasets import fetch_20newsgroups\n",
        "from sklearn.feature_extraction.text import CountVectorizer\n"
      ],
      "execution_count": 45,
      "outputs": []
    },
    {
      "cell_type": "code",
      "metadata": {
        "colab": {
          "base_uri": "https://localhost:8080/"
        },
        "id": "rVC_BShq6yYT",
        "outputId": "278a350a-b727-4ad8-d796-a576dbea36af"
      },
      "source": [
        "# Get the train data\n",
        "\n",
        "newsgroups_data = fetch_20newsgroups(data_home='/content/20_Newsgroup_Data', subset='train')"
      ],
      "execution_count": 46,
      "outputs": [
        {
          "output_type": "stream",
          "text": [
            "Downloading 20news dataset. This may take a few minutes.\n",
            "Downloading dataset from https://ndownloader.figshare.com/files/5975967 (14 MB)\n"
          ],
          "name": "stderr"
        }
      ]
    },
    {
      "cell_type": "code",
      "metadata": {
        "colab": {
          "base_uri": "https://localhost:8080/"
        },
        "id": "Y7SRMfiV6yYT",
        "outputId": "6a2a436b-73b4-4eb8-aea7-b2406f63b5ea"
      },
      "source": [
        "# More information about the data set\n",
        "\n",
        "print(newsgroups_data['DESCR'])"
      ],
      "execution_count": 47,
      "outputs": [
        {
          "output_type": "stream",
          "text": [
            ".. _20newsgroups_dataset:\n",
            "\n",
            "The 20 newsgroups text dataset\n",
            "------------------------------\n",
            "\n",
            "The 20 newsgroups dataset comprises around 18000 newsgroups posts on\n",
            "20 topics split in two subsets: one for training (or development)\n",
            "and the other one for testing (or for performance evaluation). The split\n",
            "between the train and test set is based upon a messages posted before\n",
            "and after a specific date.\n",
            "\n",
            "This module contains two loaders. The first one,\n",
            ":func:`sklearn.datasets.fetch_20newsgroups`,\n",
            "returns a list of the raw texts that can be fed to text feature\n",
            "extractors such as :class:`sklearn.feature_extraction.text.CountVectorizer`\n",
            "with custom parameters so as to extract feature vectors.\n",
            "The second one, :func:`sklearn.datasets.fetch_20newsgroups_vectorized`,\n",
            "returns ready-to-use features, i.e., it is not necessary to use a feature\n",
            "extractor.\n",
            "\n",
            "**Data Set Characteristics:**\n",
            "\n",
            "    =================   ==========\n",
            "    Classes                     20\n",
            "    Samples total            18846\n",
            "    Dimensionality               1\n",
            "    Features                  text\n",
            "    =================   ==========\n",
            "\n",
            "Usage\n",
            "~~~~~\n",
            "\n",
            "The :func:`sklearn.datasets.fetch_20newsgroups` function is a data\n",
            "fetching / caching functions that downloads the data archive from\n",
            "the original `20 newsgroups website`_, extracts the archive contents\n",
            "in the ``~/scikit_learn_data/20news_home`` folder and calls the\n",
            ":func:`sklearn.datasets.load_files` on either the training or\n",
            "testing set folder, or both of them::\n",
            "\n",
            "  >>> from sklearn.datasets import fetch_20newsgroups\n",
            "  >>> newsgroups_train = fetch_20newsgroups(subset='train')\n",
            "\n",
            "  >>> from pprint import pprint\n",
            "  >>> pprint(list(newsgroups_train.target_names))\n",
            "  ['alt.atheism',\n",
            "   'comp.graphics',\n",
            "   'comp.os.ms-windows.misc',\n",
            "   'comp.sys.ibm.pc.hardware',\n",
            "   'comp.sys.mac.hardware',\n",
            "   'comp.windows.x',\n",
            "   'misc.forsale',\n",
            "   'rec.autos',\n",
            "   'rec.motorcycles',\n",
            "   'rec.sport.baseball',\n",
            "   'rec.sport.hockey',\n",
            "   'sci.crypt',\n",
            "   'sci.electronics',\n",
            "   'sci.med',\n",
            "   'sci.space',\n",
            "   'soc.religion.christian',\n",
            "   'talk.politics.guns',\n",
            "   'talk.politics.mideast',\n",
            "   'talk.politics.misc',\n",
            "   'talk.religion.misc']\n",
            "\n",
            "The real data lies in the ``filenames`` and ``target`` attributes. The target\n",
            "attribute is the integer index of the category::\n",
            "\n",
            "  >>> newsgroups_train.filenames.shape\n",
            "  (11314,)\n",
            "  >>> newsgroups_train.target.shape\n",
            "  (11314,)\n",
            "  >>> newsgroups_train.target[:10]\n",
            "  array([ 7,  4,  4,  1, 14, 16, 13,  3,  2,  4])\n",
            "\n",
            "It is possible to load only a sub-selection of the categories by passing the\n",
            "list of the categories to load to the\n",
            ":func:`sklearn.datasets.fetch_20newsgroups` function::\n",
            "\n",
            "  >>> cats = ['alt.atheism', 'sci.space']\n",
            "  >>> newsgroups_train = fetch_20newsgroups(subset='train', categories=cats)\n",
            "\n",
            "  >>> list(newsgroups_train.target_names)\n",
            "  ['alt.atheism', 'sci.space']\n",
            "  >>> newsgroups_train.filenames.shape\n",
            "  (1073,)\n",
            "  >>> newsgroups_train.target.shape\n",
            "  (1073,)\n",
            "  >>> newsgroups_train.target[:10]\n",
            "  array([0, 1, 1, 1, 0, 1, 1, 0, 0, 0])\n",
            "\n",
            "Converting text to vectors\n",
            "~~~~~~~~~~~~~~~~~~~~~~~~~~\n",
            "\n",
            "In order to feed predictive or clustering models with the text data,\n",
            "one first need to turn the text into vectors of numerical values suitable\n",
            "for statistical analysis. This can be achieved with the utilities of the\n",
            "``sklearn.feature_extraction.text`` as demonstrated in the following\n",
            "example that extract `TF-IDF`_ vectors of unigram tokens\n",
            "from a subset of 20news::\n",
            "\n",
            "  >>> from sklearn.feature_extraction.text import TfidfVectorizer\n",
            "  >>> categories = ['alt.atheism', 'talk.religion.misc',\n",
            "  ...               'comp.graphics', 'sci.space']\n",
            "  >>> newsgroups_train = fetch_20newsgroups(subset='train',\n",
            "  ...                                       categories=categories)\n",
            "  >>> vectorizer = TfidfVectorizer()\n",
            "  >>> vectors = vectorizer.fit_transform(newsgroups_train.data)\n",
            "  >>> vectors.shape\n",
            "  (2034, 34118)\n",
            "\n",
            "The extracted TF-IDF vectors are very sparse, with an average of 159 non-zero\n",
            "components by sample in a more than 30000-dimensional space\n",
            "(less than .5% non-zero features)::\n",
            "\n",
            "  >>> vectors.nnz / float(vectors.shape[0])\n",
            "  159.01327...\n",
            "\n",
            ":func:`sklearn.datasets.fetch_20newsgroups_vectorized` is a function which \n",
            "returns ready-to-use token counts features instead of file names.\n",
            "\n",
            ".. _`20 newsgroups website`: http://people.csail.mit.edu/jrennie/20Newsgroups/\n",
            ".. _`TF-IDF`: https://en.wikipedia.org/wiki/Tf-idf\n",
            "\n",
            "\n",
            "Filtering text for more realistic training\n",
            "~~~~~~~~~~~~~~~~~~~~~~~~~~~~~~~~~~~~~~~~~~\n",
            "\n",
            "It is easy for a classifier to overfit on particular things that appear in the\n",
            "20 Newsgroups data, such as newsgroup headers. Many classifiers achieve very\n",
            "high F-scores, but their results would not generalize to other documents that\n",
            "aren't from this window of time.\n",
            "\n",
            "For example, let's look at the results of a multinomial Naive Bayes classifier,\n",
            "which is fast to train and achieves a decent F-score::\n",
            "\n",
            "  >>> from sklearn.naive_bayes import MultinomialNB\n",
            "  >>> from sklearn import metrics\n",
            "  >>> newsgroups_test = fetch_20newsgroups(subset='test',\n",
            "  ...                                      categories=categories)\n",
            "  >>> vectors_test = vectorizer.transform(newsgroups_test.data)\n",
            "  >>> clf = MultinomialNB(alpha=.01)\n",
            "  >>> clf.fit(vectors, newsgroups_train.target)\n",
            "  MultinomialNB(alpha=0.01, class_prior=None, fit_prior=True)\n",
            "\n",
            "  >>> pred = clf.predict(vectors_test)\n",
            "  >>> metrics.f1_score(newsgroups_test.target, pred, average='macro')\n",
            "  0.88213...\n",
            "\n",
            "(The example :ref:`sphx_glr_auto_examples_text_plot_document_classification_20newsgroups.py` shuffles\n",
            "the training and test data, instead of segmenting by time, and in that case\n",
            "multinomial Naive Bayes gets a much higher F-score of 0.88. Are you suspicious\n",
            "yet of what's going on inside this classifier?)\n",
            "\n",
            "Let's take a look at what the most informative features are:\n",
            "\n",
            "  >>> import numpy as np\n",
            "  >>> def show_top10(classifier, vectorizer, categories):\n",
            "  ...     feature_names = np.asarray(vectorizer.get_feature_names())\n",
            "  ...     for i, category in enumerate(categories):\n",
            "  ...         top10 = np.argsort(classifier.coef_[i])[-10:]\n",
            "  ...         print(\"%s: %s\" % (category, \" \".join(feature_names[top10])))\n",
            "  ...\n",
            "  >>> show_top10(clf, vectorizer, newsgroups_train.target_names)\n",
            "  alt.atheism: edu it and in you that is of to the\n",
            "  comp.graphics: edu in graphics it is for and of to the\n",
            "  sci.space: edu it that is in and space to of the\n",
            "  talk.religion.misc: not it you in is that and to of the\n",
            "\n",
            "\n",
            "You can now see many things that these features have overfit to:\n",
            "\n",
            "- Almost every group is distinguished by whether headers such as\n",
            "  ``NNTP-Posting-Host:`` and ``Distribution:`` appear more or less often.\n",
            "- Another significant feature involves whether the sender is affiliated with\n",
            "  a university, as indicated either by their headers or their signature.\n",
            "- The word \"article\" is a significant feature, based on how often people quote\n",
            "  previous posts like this: \"In article [article ID], [name] <[e-mail address]>\n",
            "  wrote:\"\n",
            "- Other features match the names and e-mail addresses of particular people who\n",
            "  were posting at the time.\n",
            "\n",
            "With such an abundance of clues that distinguish newsgroups, the classifiers\n",
            "barely have to identify topics from text at all, and they all perform at the\n",
            "same high level.\n",
            "\n",
            "For this reason, the functions that load 20 Newsgroups data provide a\n",
            "parameter called **remove**, telling it what kinds of information to strip out\n",
            "of each file. **remove** should be a tuple containing any subset of\n",
            "``('headers', 'footers', 'quotes')``, telling it to remove headers, signature\n",
            "blocks, and quotation blocks respectively.\n",
            "\n",
            "  >>> newsgroups_test = fetch_20newsgroups(subset='test',\n",
            "  ...                                      remove=('headers', 'footers', 'quotes'),\n",
            "  ...                                      categories=categories)\n",
            "  >>> vectors_test = vectorizer.transform(newsgroups_test.data)\n",
            "  >>> pred = clf.predict(vectors_test)\n",
            "  >>> metrics.f1_score(pred, newsgroups_test.target, average='macro')\n",
            "  0.77310...\n",
            "\n",
            "This classifier lost over a lot of its F-score, just because we removed\n",
            "metadata that has little to do with topic classification.\n",
            "It loses even more if we also strip this metadata from the training data:\n",
            "\n",
            "  >>> newsgroups_train = fetch_20newsgroups(subset='train',\n",
            "  ...                                       remove=('headers', 'footers', 'quotes'),\n",
            "  ...                                       categories=categories)\n",
            "  >>> vectors = vectorizer.fit_transform(newsgroups_train.data)\n",
            "  >>> clf = MultinomialNB(alpha=.01)\n",
            "  >>> clf.fit(vectors, newsgroups_train.target)\n",
            "  MultinomialNB(alpha=0.01, class_prior=None, fit_prior=True)\n",
            "\n",
            "  >>> vectors_test = vectorizer.transform(newsgroups_test.data)\n",
            "  >>> pred = clf.predict(vectors_test)\n",
            "  >>> metrics.f1_score(newsgroups_test.target, pred, average='macro')\n",
            "  0.76995...\n",
            "\n",
            "Some other classifiers cope better with this harder version of the task. Try\n",
            "running :ref:`sphx_glr_auto_examples_model_selection_grid_search_text_feature_extraction.py` with and without\n",
            "the ``--filter`` option to compare the results.\n",
            "\n",
            ".. topic:: Recommendation\n",
            "\n",
            "  When evaluating text classifiers on the 20 Newsgroups data, you\n",
            "  should strip newsgroup-related metadata. In scikit-learn, you can do this by\n",
            "  setting ``remove=('headers', 'footers', 'quotes')``. The F-score will be\n",
            "  lower because it is more realistic.\n",
            "\n",
            ".. topic:: Examples\n",
            "\n",
            "   * :ref:`sphx_glr_auto_examples_model_selection_grid_search_text_feature_extraction.py`\n",
            "\n",
            "   * :ref:`sphx_glr_auto_examples_text_plot_document_classification_20newsgroups.py`\n",
            "\n"
          ],
          "name": "stdout"
        }
      ]
    },
    {
      "cell_type": "code",
      "metadata": {
        "colab": {
          "base_uri": "https://localhost:8080/"
        },
        "id": "qoBYIJ4k6yYT",
        "outputId": "1d189e96-d6f1-4a57-a647-caff2b5db5a5"
      },
      "source": [
        "# Example article\n",
        "print(newsgroups_data['data'][0])\n"
      ],
      "execution_count": null,
      "outputs": [
        {
          "output_type": "stream",
          "text": [
            "From: lerxst@wam.umd.edu (where's my thing)\n",
            "Subject: WHAT car is this!?\n",
            "Nntp-Posting-Host: rac3.wam.umd.edu\n",
            "Organization: University of Maryland, College Park\n",
            "Lines: 15\n",
            "\n",
            " I was wondering if anyone out there could enlighten me on this car I saw\n",
            "the other day. It was a 2-door sports car, looked to be from the late 60s/\n",
            "early 70s. It was called a Bricklin. The doors were really small. In addition,\n",
            "the front bumper was separate from the rest of the body. This is \n",
            "all I know. If anyone can tellme a model name, engine specs, years\n",
            "of production, where this car is made, history, or whatever info you\n",
            "have on this funky looking car, please e-mail.\n",
            "\n",
            "Thanks,\n",
            "- IL\n",
            "   ---- brought to you by your neighborhood Lerxst ----\n",
            "\n",
            "\n",
            "\n",
            "\n",
            "\n"
          ],
          "name": "stdout"
        }
      ]
    },
    {
      "cell_type": "code",
      "metadata": {
        "colab": {
          "base_uri": "https://localhost:8080/"
        },
        "id": "p4WqLpCb6yYT",
        "outputId": "90f06ac1-7b1a-44eb-c069-fe2ec58604eb"
      },
      "source": [
        "# Associated label\n",
        "\n",
        "newsgroups_data['target'][0]"
      ],
      "execution_count": 48,
      "outputs": [
        {
          "output_type": "execute_result",
          "data": {
            "text/plain": [
              "7"
            ]
          },
          "metadata": {
            "tags": []
          },
          "execution_count": 48
        }
      ]
    },
    {
      "cell_type": "code",
      "metadata": {
        "colab": {
          "base_uri": "https://localhost:8080/",
          "height": 35
        },
        "id": "AZLL-IaD6yYT",
        "outputId": "a2bbb36b-5c26-4e7d-d89f-c52620178243"
      },
      "source": [
        "# Name of label\n",
        "\n",
        "newsgroups_data['target_names'][7]"
      ],
      "execution_count": 49,
      "outputs": [
        {
          "output_type": "execute_result",
          "data": {
            "application/vnd.google.colaboratory.intrinsic+json": {
              "type": "string"
            },
            "text/plain": [
              "'rec.autos'"
            ]
          },
          "metadata": {
            "tags": []
          },
          "execution_count": 49
        }
      ]
    },
    {
      "cell_type": "code",
      "metadata": {
        "id": "VFHmadK36yYT"
      },
      "source": [
        "# Preprocessing boilerplate\n",
        "\n",
        "n_documents = len(newsgroups_data['data'])\n",
        "\n",
        "count_vectorizer = CountVectorizer(input='content', binary=True,\n",
        "                                   max_df=0.25, min_df=1.01/n_documents) # ignore common words, words that appear once\n",
        "binary_bag_of_words = count_vectorizer.fit_transform(newsgroups_data['data']) # input is a list of strings\n"
      ],
      "execution_count": 50,
      "outputs": []
    },
    {
      "cell_type": "code",
      "metadata": {
        "colab": {
          "base_uri": "https://localhost:8080/"
        },
        "id": "5P9p9s0L6yYU",
        "outputId": "9e9f3094-b5ae-45e5-dfc2-8d09f886212b"
      },
      "source": [
        "# Check shape\n",
        "\n",
        "binary_bag_of_words.shape"
      ],
      "execution_count": 51,
      "outputs": [
        {
          "output_type": "execute_result",
          "data": {
            "text/plain": [
              "(11314, 56365)"
            ]
          },
          "metadata": {
            "tags": []
          },
          "execution_count": 51
        }
      ]
    },
    {
      "cell_type": "code",
      "metadata": {
        "colab": {
          "base_uri": "https://localhost:8080/"
        },
        "id": "efl1xjEl6yYU",
        "outputId": "3fe46e11-c984-47b7-a940-8d02b8a152f0"
      },
      "source": [
        "# Check that the fit has been successful\n",
        "\n",
        "count_vectorizer.inverse_transform(binary_bag_of_words[0, :])"
      ],
      "execution_count": 52,
      "outputs": [
        {
          "output_type": "execute_result",
          "data": {
            "text/plain": [
              "[array(['lerxst', 'wam', 'umd', 'where', 'thing', 'car', 'rac3',\n",
              "        'maryland', 'college', 'park', '15', 'wondering', 'anyone',\n",
              "        'could', 'enlighten', 'saw', 'day', 'door', 'sports', 'looked',\n",
              "        'late', '60s', 'early', '70s', 'called', 'bricklin', 'doors',\n",
              "        'were', 'really', 'small', 'addition', 'front', 'bumper',\n",
              "        'separate', 'rest', 'body', 'tellme', 'model', 'name', 'engine',\n",
              "        'specs', 'years', 'production', 'made', 'history', 'whatever',\n",
              "        'info', 'funky', 'looking', 'please', 'mail', 'thanks', 'il',\n",
              "        'brought', 'neighborhood'], dtype='<U80')]"
            ]
          },
          "metadata": {
            "tags": []
          },
          "execution_count": 52
        }
      ]
    },
    {
      "cell_type": "code",
      "metadata": {
        "id": "lOKVvyKk6yYU"
      },
      "source": [
        "# Dict that will be useful later \n",
        "\n",
        "inv_vocabulary = {value:key for key, value in count_vectorizer.vocabulary_.items()}"
      ],
      "execution_count": 53,
      "outputs": []
    },
    {
      "cell_type": "markdown",
      "metadata": {
        "id": "uy5rE2O-6yYU"
      },
      "source": [
        "#### A Naive Bayes classifier for `newsgroup`"
      ]
    },
    {
      "cell_type": "markdown",
      "metadata": {
        "id": "A5-CsPPR6yYU"
      },
      "source": [
        "Each feature vector $x$ is a list of indicators for whether a word appears in the article. $x_i$ is 1 if the $i$th word appears, and 0 otherwise. `inv_vocabulary` matches word indices $i$ to words.\n",
        "\n",
        "Each label $y$ is a value in $0, 1, \\ldots, 19$.\n",
        "\n",
        "The parts of a naive Bayes classifier for this problem can be summarised as:  \n",
        "\n",
        "\n",
        "- A probability distribution for the feature vector by class, $p(x|y = j)$ for each $j = 0, 1, \\ldots, 19$. These probability distributions are assumed to have independent components: we can factorize the joint probability as a product of marginal probabilities\n",
        "\\begin{equation}\n",
        "    p(x|y = j) = \\prod_{i=1}^d p(x_i|y = j)\n",
        "\\end{equation}\n",
        "These marginal probability distributions are Bernoulli distributions, each of which has a single parameter $\\theta_{ji} := p(x_i = 1|y = j)$. This parameter is the probability of observing word $i$ in an article of class $j$. \n",
        "\n",
        "- We will use the Laplace smoothed maximum likelihood estimate to compute these parameters. Laplace smoothing involves adding small counts to every feature for each class. Else, if a feature did not appear in the training set of a class, but then we observed it in our test data the log probability would be undefined.\n",
        "\n",
        "- A collection of class prior probabilities $p(y = j)$. These will be set by computing the class base rates in the training set.  \n",
        "\n",
        "\n",
        "- A function for computing the probability of class membership via Bayes' theorem:  \n",
        "\n",
        "\\begin{equation}\n",
        "    p(y = j|x) = \\frac{p(x|y = j)p(y = j)}{p(x)}\n",
        "\\end{equation}"
      ]
    },
    {
      "cell_type": "code",
      "metadata": {
        "id": "3h18XRZN6yYU"
      },
      "source": [
        "# Compute the parameter estimates (adjusted fraction of documents in class that contain word)\n",
        "\n",
        "n_classes = newsgroups_data['target'].max() + 1\n",
        "y = newsgroups_data['target']\n",
        "n_words = binary_bag_of_words.shape[1]\n",
        "\n",
        "alpha = 1e-6 # parameters for Laplace smoothing\n",
        "\n",
        "theta = np.zeros([n_classes, n_words]) # stores parameter values - prob. word given class\n",
        "for c_k in range(n_classes): # 0, 1, ..., 19\n",
        "    class_mask = (y == c_k)\n",
        "    N = class_mask.sum() # number of articles in class\n",
        "    theta[c_k, :] = (binary_bag_of_words[class_mask, :].sum(axis=0) + alpha)/(N + alpha*2)"
      ],
      "execution_count": 54,
      "outputs": []
    },
    {
      "cell_type": "code",
      "metadata": {
        "colab": {
          "base_uri": "https://localhost:8080/"
        },
        "id": "EExl7ySD6yYV",
        "outputId": "968db4d6-e548-428c-fb22-195ab7067f0a"
      },
      "source": [
        "# Check whether the most probable word in each class is reasonable\n",
        "\n",
        "most_probable_word_ix = theta.argmax(axis=1) # most probable word for each class\n",
        "\n",
        "for j, ix in enumerate(most_probable_word_ix):\n",
        "    print('Most probable word in class {} is \"{}\".'.format(newsgroups_data['target_names'][j],\n",
        "                                                           inv_vocabulary[ix]))"
      ],
      "execution_count": 55,
      "outputs": [
        {
          "output_type": "stream",
          "text": [
            "Most probable word in class alt.atheism is \"people\".\n",
            "Most probable word in class comp.graphics is \"graphics\".\n",
            "Most probable word in class comp.os.ms-windows.misc is \"windows\".\n",
            "Most probable word in class comp.sys.ibm.pc.hardware is \"thanks\".\n",
            "Most probable word in class comp.sys.mac.hardware is \"mac\".\n",
            "Most probable word in class comp.windows.x is \"window\".\n",
            "Most probable word in class misc.forsale is \"sale\".\n",
            "Most probable word in class rec.autos is \"car\".\n",
            "Most probable word in class rec.motorcycles is \"dod\".\n",
            "Most probable word in class rec.sport.baseball is \"he\".\n",
            "Most probable word in class rec.sport.hockey is \"ca\".\n",
            "Most probable word in class sci.crypt is \"clipper\".\n",
            "Most probable word in class sci.electronics is \"use\".\n",
            "Most probable word in class sci.med is \"reply\".\n",
            "Most probable word in class sci.space is \"space\".\n",
            "Most probable word in class soc.religion.christian is \"god\".\n",
            "Most probable word in class talk.politics.guns is \"people\".\n",
            "Most probable word in class talk.politics.mideast is \"people\".\n",
            "Most probable word in class talk.politics.misc is \"people\".\n",
            "Most probable word in class talk.religion.misc is \"he\".\n"
          ],
          "name": "stdout"
        }
      ]
    },
    {
      "cell_type": "code",
      "metadata": {
        "colab": {
          "base_uri": "https://localhost:8080/"
        },
        "id": "ccfGnkKj6yYV",
        "outputId": "2e7a5e11-101b-48e0-ff82-bb49b58f61ff"
      },
      "source": [
        "# Define a distribution for each class\n",
        "batch_of_bernoullis = tfd.Bernoulli(probs=theta)\n",
        "p_x_given_y = tfd.Independent(batch_of_bernoullis, reinterpreted_batch_ndims=1) \n",
        "p_x_given_y\n"
      ],
      "execution_count": 56,
      "outputs": [
        {
          "output_type": "execute_result",
          "data": {
            "text/plain": [
              "<tfp.distributions.Independent 'IndependentBernoulli' batch_shape=[20] event_shape=[56365] dtype=int32>"
            ]
          },
          "metadata": {
            "tags": []
          },
          "execution_count": 56
        }
      ]
    },
    {
      "cell_type": "code",
      "metadata": {
        "colab": {
          "base_uri": "https://localhost:8080/"
        },
        "id": "rr0zexLz6yYV",
        "outputId": "811886cf-b26e-455f-8eca-eb26ee52c268"
      },
      "source": [
        "# Take a sample of words from each class\n",
        "n_samples = 10\n",
        "sample = p_x_given_y.sample(n_samples)\n",
        "sample.shape\n"
      ],
      "execution_count": 57,
      "outputs": [
        {
          "output_type": "execute_result",
          "data": {
            "text/plain": [
              "TensorShape([10, 20, 56365])"
            ]
          },
          "metadata": {
            "tags": []
          },
          "execution_count": 57
        }
      ]
    },
    {
      "cell_type": "code",
      "metadata": {
        "colab": {
          "base_uri": "https://localhost:8080/",
          "height": 35
        },
        "id": "NRYm4c4n6yYV",
        "outputId": "02e8f69d-ad45-4f9e-c2e4-707084cac9de"
      },
      "source": [
        "# Choose a class\n",
        "\n",
        "chosen_class = 15\n",
        "newsgroups_data['target_names'][chosen_class]"
      ],
      "execution_count": 58,
      "outputs": [
        {
          "output_type": "execute_result",
          "data": {
            "application/vnd.google.colaboratory.intrinsic+json": {
              "type": "string"
            },
            "text/plain": [
              "'soc.religion.christian'"
            ]
          },
          "metadata": {
            "tags": []
          },
          "execution_count": 58
        }
      ]
    },
    {
      "cell_type": "code",
      "metadata": {
        "colab": {
          "base_uri": "https://localhost:8080/"
        },
        "id": "s-NVv5686yYV",
        "outputId": "c51dd201-5445-42bf-b441-1b6ca098ec1e"
      },
      "source": [
        "# Indicators for words that appear in the sample\n",
        "\n",
        "class_sample = sample[:, chosen_class, :]\n",
        "class_sample"
      ],
      "execution_count": 59,
      "outputs": [
        {
          "output_type": "execute_result",
          "data": {
            "text/plain": [
              "<tf.Tensor: shape=(10, 56365), dtype=int32, numpy=\n",
              "array([[0, 0, 0, ..., 0, 0, 0],\n",
              "       [1, 0, 0, ..., 0, 0, 0],\n",
              "       [0, 0, 0, ..., 0, 0, 0],\n",
              "       ...,\n",
              "       [0, 0, 0, ..., 0, 0, 0],\n",
              "       [0, 0, 0, ..., 0, 0, 0],\n",
              "       [0, 0, 0, ..., 0, 0, 0]], dtype=int32)>"
            ]
          },
          "metadata": {
            "tags": []
          },
          "execution_count": 59
        }
      ]
    },
    {
      "cell_type": "code",
      "metadata": {
        "colab": {
          "base_uri": "https://localhost:8080/"
        },
        "id": "FHRtneei6yYV",
        "outputId": "015e901c-81b4-4393-d23c-40b3ab54f538"
      },
      "source": [
        "# Perform inverse transform to test quality of fit\n",
        "count_vectorizer.inverse_transform(class_sample)\n"
      ],
      "execution_count": 60,
      "outputs": [
        {
          "output_type": "execute_result",
          "data": {
            "text/plain": [
              "[array(['03', '13', '17', '1993', '47', 'actually', 'add', 'advance',\n",
              "        'agreement', 'along', 'altered', 'angels', 'anyone', 'anyways',\n",
              "        'argument', 'arises', 'augustine', 'been', 'before', 'bless',\n",
              "        'bothers', 'byler', 'call', 'carol', 'challenge', 'choice',\n",
              "        'choices', 'churches', 'civil', 'clh', 'closed', 'coined',\n",
              "        'contains', 'could', 'croats', 'dcs', 'dec', 'definitely',\n",
              "        'definition', 'depends', 'dislike', 'error', 'etc', 'even',\n",
              "        'excommunication', 'fact', 'faith', 'far', 'feels', 'first',\n",
              "        'forcing', 'gave', 'god', 'granted', 'hear', 'him', 'hug',\n",
              "        'identity', 'inc', 'infallible', 'intelligibly', 'interest',\n",
              "        'interesting', 'invoke', 'jack', 'jesus', 'john', 'knowledge',\n",
              "        'languages', 'large', 'last', 'little', 'made', 'most', 'murray',\n",
              "        'nature', 'net', 'newsgroup', 'note', 'now', 'nut', 'oh', 'once',\n",
              "        'palastine', 'paul', 'people', 'perpetual', 'places', 'point',\n",
              "        'prefer', 'preferences', 'raised', 'redwoods', 'related',\n",
              "        'relevance', 'religion', 'religious', 'removing', 'repeating',\n",
              "        'rutgers', 'sacrafice', 'should', 'sky', 'sooner', 'specifically',\n",
              "        'still', 'suspect', 'their', 'them', 'then', 'theology', 'these',\n",
              "        'things', 'though', 'thus', 'too', 'truely', 'truths', 'types',\n",
              "        'uk', 'upcoming', 'usually', 'walls', 'way', 'week', 'well',\n",
              "        'were', 'whose', 'wish', 'wittgenstein', 'writing'], dtype='<U80'),\n",
              " array(['00', '33', '4423', 'acs', 'act', 'added', 'adoption', 'already',\n",
              "        'am', 'andy', 'appeared', 'around', 'ask', 'assembling', 'attend',\n",
              "        'away', 'because', 'been', 'being', 'best', 'biblical', 'big',\n",
              "        'blood', 'born', 'cause', 'choices', 'christian', 'condemn',\n",
              "        'consistent', 'consists', 'cor', 'cultural', 'deciphered',\n",
              "        'definitely', 'determinations', 'did', 'dn', 'doesn', 'dramatic',\n",
              "        'earth', 'emeritus', 'engineer', 'engineering', 'english',\n",
              "        'entire', 'every', 'exactly', 'existence', 'father', 'fear',\n",
              "        'field', 'find', 'free', 'geneva', 'given', 'god', 'godly', 'good',\n",
              "        'heaven', 'his', 'however', 'hubris', 'huntsville', 'immediately',\n",
              "        'indeed', 'institution', 'interchangeable', 'into', 'involved',\n",
              "        'joe', 'least', 'maarten', 'making', 'many', 'marty', 'matter',\n",
              "        'means', 'mentions', 'message', 'mexico', 'might', 'mistake',\n",
              "        'new', 'nine', 'nor', 'noyes', 'operates', 'parties', 'people',\n",
              "        'pink', 'possible', 'powers', 'price', 'problem', 'purification',\n",
              "        'questions', 'rc', 'reader', 'realize', 'reformed', 'religions',\n",
              "        'religious', 'replies', 'result', 'robertson', 'said', 'say',\n",
              "        'school', 'seminary', 'sin', 'site', 'soc', 'sold', 'something',\n",
              "        'specifically', 'sphere', 'square', 'step', 'stuff', 'tar',\n",
              "        'tears', 'themselves', 'these', 'thought', 'turn', 'two', 'until',\n",
              "        'uses', 'velasco', 'vienna', 'warning', 'went', 'wether', 'where',\n",
              "        'whom', 'work'], dtype='<U80'),\n",
              " array(['15', '19', '36', '3755', '40', '714', 'after', 'allow', 'along',\n",
              "        'answered', 'anything', 'apr', 'based', 'believe', 'betrayal',\n",
              "        'better', 'bgu', 'books', 'called', 'christian', 'commitment',\n",
              "        'compromise', 'consequences', 'conventional', 'cosmogony',\n",
              "        'couples', 'course', 'court', 'dangerous', 'did', 'different',\n",
              "        'difficult', 'disagreements', 'discussion', 'down', 'eating',\n",
              "        'encyclopedia', 'evangelicals', 'even', 'existed', 'explain',\n",
              "        'explanation', 'eyes', 'false', 'far', 'favour', 'fax', 'feeling',\n",
              "        'find', 'foolish', 'fools', 'genesis', 'give', 'god', 'gods',\n",
              "        'gold', 'guess', 'had', 'happened', 'having', 'hayesstw', 'he',\n",
              "        'hollywood', 'idea', 'idly', 'immoral', 'impact', 'information',\n",
              "        'into', 'jennifer', 'jon', 'july', 'kulikauskas', 'large',\n",
              "        'lewisburg', 'liberal', 'longer', 'malcusco', 'mark', 'matthew',\n",
              "        'may', 'maybe', 'model', 'moderator', 'moral', 'mot', 'mystery',\n",
              "        'newsgroup', 'next', 'occurances', 'offshoots', 'old', 'our',\n",
              "        'own', 'parent', 'passed', 'people', 'plunged', 'practicing',\n",
              "        'probably', 'question', 'rather', 'read', 'really', 'refers',\n",
              "        'reid', 'respect', 'school', 'science', 'scriptures', 'seeing',\n",
              "        'showed', 'somehow', 'spend', 'study', 'subjective', 'susceptible',\n",
              "        'suspect', 'take', 'these', 'thinker', 'those', 'though', 'titled',\n",
              "        'trying', 'umd', 'un', 'untruth', 'vanity', 'various', 'were',\n",
              "        'where', 'wife', 'without', 'working', 'wouldn'], dtype='<U80'),\n",
              " array(['00', '01', '02', '1835', '30', '38', '706', 'above', 'acns',\n",
              "        'adam', 'address', 'aimed', 'allow', 'allows', 'always', 'animals',\n",
              "        'appears', 'approaches', 'apr', 'aramaic', 'around', 'atheists',\n",
              "        'authority', 'bad', 'become', 'been', 'believe', 'better', 'build',\n",
              "        'buy', 'cannot', 'carpenter', 'certain', 'christmas', 'church',\n",
              "        'clearest', 'comes', 'committed', 'common', 'complete',\n",
              "        'considered', 'correct', 'could', 'course', 'dawned', 'dept',\n",
              "        'detailed', 'disclaimer', 'discussion', 'done', 'druids',\n",
              "        'emphasized', 'encounters', 'engineering', 'escape', 'ethiopians',\n",
              "        'explained', 'far', 'favor', 'feast', 'field', 'finally', 'find',\n",
              "        'following', 'fundamentalism', 'games', 'given', 'gospel',\n",
              "        'gratuitous', 'great', 'hale', 'hate', 'he', 'heaven', 'him',\n",
              "        'honor', 'idea', 'impact', 'implications', 'including',\n",
              "        'individual', 'into', 'ironic', 'issue', 'jean', 'keep', 'law',\n",
              "        'least', 'local', 'logos', 'lord', 'makes', 'many', 'masonry',\n",
              "        'mean', 'messiah', 'mot', 'murphy', 'note', 'now', 'offsprings',\n",
              "        'once', 'oriental', 'over', 'own', 'place', 'position', 'pressed',\n",
              "        'proclaiming', 'props', 'quebec', 'question', 'quotations',\n",
              "        'raised', 'read', 'really', 'reasonable', 'reedr', 'repeated',\n",
              "        'responsibility', 'right', 'run', 'say', 'scourging', 'scriptures',\n",
              "        'seems', 'seen', 'shallow', 'shares', 'she', 'shintoism', 'should',\n",
              "        'show', 'shows', 'sift', 'someone', 'statement', 'such', 'suggest',\n",
              "        'sun075', 'sword', 'terlep', 'terribly', 'texas', 'than', 'them',\n",
              "        'third', 'though', 'through', 'timothy', 'too', 'tree', 'truth',\n",
              "        'until', 'us', 'use', 'used', 'while', 'wills', 'word', 'work',\n",
              "        'wrong', 'yes', 'young', 'yourself'], dtype='<U80'),\n",
              " array(['02', '100', '12', '147', '392', '44', 'aa888', 'absent',\n",
              "        'absolutely', 'actual', 'afterward', 'again', 'agony', 'always',\n",
              "        'answer', 'answers', 'anything', 'anyway', 'appears', 'ashley',\n",
              "        'ask', 'augustine', 'away', 'been', 'being', 'beyond', 'bring',\n",
              "        'brownli', 'byler', 'ca', 'called', 'canceled', 'clarify', 'comes',\n",
              "        'con', 'consulting', 'cossack', 'day', 'days', 'desperately',\n",
              "        'different', 'discussed', 'doctrine', 'dying', 'easy',\n",
              "        'ecclesiastes', 'ending', 'engineering', 'equally', 'ever',\n",
              "        'example', 'excommunicated', 'experience', 'faith', 'false',\n",
              "        'familiar', 'first', 'foolish', 'forever', 'general', 'god',\n",
              "        'group', 'gvg47', 'he', 'heartily', 'hebrew', 'henling', 'highly',\n",
              "        'him', 'hung', 'hut', 'imagine', 'implications', 'instead',\n",
              "        'intricate', 'ironic', 'its', 'iv', 'jayne', 'last', 'least',\n",
              "        'leave', 'less', 'let', 'live', 'lord', 'made', 'major', 'manner',\n",
              "        'may', 'meant', 'members', 'michael', 'mindlink', 'minimize', 'mt',\n",
              "        'nature', 'near', 'necessarily', 'nothing', 'nrsv', 'ns', 'nt',\n",
              "        'number', 'obviously', 'ohio', 'once', 'orthodox', 'our', 'parish',\n",
              "        'pauline', 'people', 'peter', 'placed', 'private', 'quite', 'real',\n",
              "        'really', 'realm', 'reason', 'reasonable', 'redeem', 'reference',\n",
              "        'replies', 'represents', 'require', 'right', 'rise', 'romans',\n",
              "        'said', 'save', 'seating', 'should', 'signs', 'solution', 'ssf',\n",
              "        'strict', 'strive', 'sympathy', 'take', 'talent', 'tell', 'their',\n",
              "        'them', 'these', 'tion', 'total', 'true', 'unlike', 'unto', 'us',\n",
              "        'uses', 'usual', 'value', 'whether'], dtype='<U80'),\n",
              " array(['10', '11', '17', '20', '23', '2nd', '34', '93', 'adoption',\n",
              "        'affect', 'agree', 'also', 'always', 'am', 'analogy', 'answer',\n",
              "        'anything', 'argument', 'athos', 'atmosphere', 'being',\n",
              "        'believers', 'bits', 'ca', 'carefully', 'catholic', 'changes',\n",
              "        'charles', 'chose', 'christ', 'claim', 'coming', 'completely',\n",
              "        'considered', 'could', 'created', 'crete', 'criticizing',\n",
              "        'determine', 'devastation', 'devoted', 'doesn', 'down', 'due',\n",
              "        'e_p', 'ecn', 'english', 'entire', 'explain', 'fearing', 'female',\n",
              "        'finds', 'focus', 'fragmentary', 'fundies', 'g41', 'geneva',\n",
              "        'gives', 'godhead', 'good', 'gospel', 'graduate', 'grow', 'having',\n",
              "        'he', 'hellbound', 'her', 'holidays', 'however', 'humanity',\n",
              "        'james', 'jesus', 'later', 'least', 'less', 'lincoln', 'longest',\n",
              "        'looks', 'lutheran', 'mail', 'man', 'many', 'masses', 'may',\n",
              "        'maybe', 'might', 'months', 'most', 'name', 'nervously', 'newton',\n",
              "        'none', 'note', 'once', 'original', 'our', 'parents', 'particular',\n",
              "        'people', 'person', 'personal', 'perspective', 'philosophy',\n",
              "        'planet', 'posts', 'practicing', 'pre', 'preserve', 'prevalent',\n",
              "        'psalmist', 'psi', 'quite', 'quotation', 'rather', 'realible',\n",
              "        'reasoning', 'resurection', 'resurrection', 'running', 'said',\n",
              "        'scripture', 'seeing', 'similar', 'son', 'spiritually', 'suspect',\n",
              "        'temper', 'their', 'them', 'things', 'thinking', 'thorough',\n",
              "        'though', 'through', 'thus', 'tim', 'time', 'times', 'top',\n",
              "        'trouble', 'turn', 'validity', 'very', 'vows', 'way', 'weeks',\n",
              "        'where', 'whoever', 'wind', 'witness', 'won', 'word', 'years'],\n",
              "       dtype='<U80'),\n",
              " array(['18', 'absurdity', 'accordance', 'accusing', 'acts', 'alt',\n",
              "        'altogether', 'answers', 'antti', 'appears', 'arrogance',\n",
              "        'arrogant', 'asking', 'assimilation', 'attempting', 'away', 'aziz',\n",
              "        'back', 'been', 'before', 'being', 'both', 'brings', 'caralv',\n",
              "        'cast', 'christian', 'claims', 'clh', 'coming', 'conversation',\n",
              "        'could', 'covenant', 'criminal', 'crowd', 'db7n', 'dead', 'decide',\n",
              "        'decided', 'descriptions', 'development', 'didn', 'died',\n",
              "        'differences', 'discussed', 'dsu', 'earth', 'end', 'endowed',\n",
              "        'entitled', 'eternal', 'exists', 'fad', 'fall', 'few', 'freenet',\n",
              "        'french', 'game', 'general', 'gov', 'guess', 'happened', 'hard',\n",
              "        'he', 'his', 'hudson', 'impersonal', 'important', 'innocence',\n",
              "        'intention', 'into', 'island', 'itself', 'jek', 'jewish', 'kjv',\n",
              "        'known', 'large', 'larry', 'larsen', 'life', 'ling', 'little',\n",
              "        'made', 'mateo', 'may', 'maybe', 'mean', 'means', 'mi', 'midway',\n",
              "        'minds', 'mine', 'months', 'moody', 'moral', 'most', 'must',\n",
              "        'mutuality', 'necessitates', 'notes', 'palms', 'part', 'parting',\n",
              "        'paul', 'phoenix', 'places', 'possibly', 'preached', 'pride',\n",
              "        'protestant', 'questions', 'read', 'receive', 'recovery',\n",
              "        'reliable', 'remember', 'respect', 'result', 'rudolf', 'rutgers',\n",
              "        'savior', 'sciences', 'scroll', 'services', 'shall', 'should',\n",
              "        'sides', 'sow', 'ssd', 'star', 'sun', 'surrounding', 'than',\n",
              "        'those', 'too', 'tough', 'uga', 'universe', 'unto', 'valuable',\n",
              "        've', 'vela', 'views', 'watch', 'were', 'willing', 'wind', 'world',\n",
              "        'worshipped', 'year'], dtype='<U80'),\n",
              " array(['07', '16', '68', '706', '9760', 'accept', 'across', 'ad',\n",
              "        'address', 'admit', 'alterations', 'another', 'answer',\n",
              "        'anthroposophy', 'apr', 'assures', 'atheists', 'athos', 'audience',\n",
              "        'balance', 'become', 'being', 'believe', 'believes', 'believing',\n",
              "        'bosnia', 'bring', 'brother', 'ca', 'case', 'century', 'change',\n",
              "        'character', 'christian', 'city', 'claremont', 'come', 'comm',\n",
              "        'compsci', 'contrary', 'copy', 'course', 'covington', 'create',\n",
              "        'david', 'discuss', 'earth', 'either', 'else', 'ever', 'fax',\n",
              "        'find', 'foreign', 'forever', 'gamers', 'gay', 'geneva', 'glory',\n",
              "        'go', 'god', 'gods', 'golded', 'good', 'he', 'hebrews', 'hello',\n",
              "        'here', 'holy', 'ideas', 'ideology', 'impossible', 'inside',\n",
              "        'intended', 'intervention', 'isn', 'kulikauskas', 'law', 'least',\n",
              "        'liar', 'life', 'lot', 'make', 'man', 'marched', 'mental', 'mine',\n",
              "        'mmalt', 'most', 'move', 'night', 'nurture', 'old', 'parable',\n",
              "        'paraphrase', 'party', 'past', 'phone', 'place', 'really',\n",
              "        'regards', 'rely', 'remember', 'right', 'rise', 'roboticist',\n",
              "        'rules', 'sciences', 'scientist', 'seem', 'seen', 'shaped',\n",
              "        'should', 'shouldn', 'silver', 'someone', 'son', 'suggested',\n",
              "        'suitable', 'then', 'theologians', 'think', 'throwing', 'time',\n",
              "        'train', 'tried', 'true', 'truth', 'use', 'useless', 'valid',\n",
              "        'view', 'watch', 'why', 'wind', 'without', 'works', 'write',\n",
              "        'wrong', 'wrote'], dtype='<U80'),\n",
              " array(['09', '14', '16', '1993', '2000', '31', 'abstain', 'accepted',\n",
              "        'accurate', 'acs', 'actually', 'already', 'although', 'appointee',\n",
              "        'athena', 'attitude', 'back', 'bad', 'before', 'being', 'big',\n",
              "        'bigelow', 'birds', 'body', 'books', 'born', 'broken', 'caused',\n",
              "        'changes', 'chanted', 'christ', 'christians', 'clh', 'committing',\n",
              "        'conception', 'conflict', 'could', 'country', 'cults', 'cultural',\n",
              "        'daily', 'danger', 'dangers', 'david', 'db7n', 'department',\n",
              "        'depends', 'did', 'die', 'down', 'dynamic', 'especially', 'even',\n",
              "        'exists', 'fault', 'find', 'first', 'fruit', 'gary', 'genocide',\n",
              "        'giving', 'god', 'good', 'grace', 'greek', 'had', 'hand', 'having',\n",
              "        'he', 'here', 'homosexuality', 'intent', 'into', 'jeff', 'jews',\n",
              "        'judgement', 'killed', 'len', 'let', 'life', 'lot', 'make', 'male',\n",
              "        'mark', 'mean', 'meetinsg', 'must', 'nine', 'oil', 'our',\n",
              "        'ourselves', 'pa', 'party', 'paul', 'perhaps', 'poram', 'prayers',\n",
              "        'principles', 'prophet', 'providing', 'questions', 'quiz', 'rate',\n",
              "        'read', 'remains', 'remember', 'reply', 'ridiculous', 'right',\n",
              "        'rose', 'say', 'seals', 'see', 'shut', 'simply', 'situation',\n",
              "        'someone', 'spat', 'specifying', 'start', 'stdisclaimer', 'still',\n",
              "        'super', 'support', 'suspect', 'sysops', 'tend', 'then', 'these',\n",
              "        'thing', 'time', 'tv', 'uncomfortable', 'unfair', 'universe',\n",
              "        'used', 'western', 'why', 'wrong', 'years'], dtype='<U80'),\n",
              " array(['01', '10', '14', '1993', '20', '24', '33', 'able', 'accepting',\n",
              "        'adam', 'ai', 'alone', 'also', 'always', 'among', 'angelino',\n",
              "        'another', 'appreciation', 'apr', 'athos', 'attended', 'author',\n",
              "        'bad', 'became', 'begin', 'beginning', 'beings', 'changes',\n",
              "        'chris', 'christians', 'christopher', 'claim', 'claims',\n",
              "        'columbia', 'confusion', 'deeply', 'destroyed', 'devoted',\n",
              "        'different', 'error', 'especially', 'essays', 'essentially',\n",
              "        'evil', 'examples', 'failed', 'faiths', 'far', 'fax', 'files',\n",
              "        'focused', 'general', 'given', 'god', 'great', 'having', 'he',\n",
              "        'hell', 'his', 'hominem', 'hospital', 'hours', 'however',\n",
              "        'immaculate', 'implications', 'inconspicuous', 'indiana',\n",
              "        'inerrancy', 'instant', 'interject', 'john', 'jw', 'less', 'lewis',\n",
              "        'lmh', 'logic', 'long', 'mind', 'ministry', 'mountains',\n",
              "        'national', 'nih', 'none', 'normal', 'off', 'opinions', 'order',\n",
              "        'our', 'oxymoron', 'parenthood', 'part', 'perfectly', 'personal',\n",
              "        'pilate', 'plural', 'policies', 'present', 'pretense', 'rather',\n",
              "        'rationalizations', 'reading', 'really', 'referee', 'relative',\n",
              "        'research', 'right', 'running', 'saved', 'says', 'see', 'seems',\n",
              "        'selfish', 'sets', 'skidmore', 'son', 'split', 'stops', 'strive',\n",
              "        'stuff', 'successful', 'take', 'tasks', 'tell', 'terribly',\n",
              "        'testament', 'them', 'these', 'things', 'though', 'thrill', 'time',\n",
              "        'times', 'true', 'us', 've', 'very', 'wouldn', 'wrote'],\n",
              "       dtype='<U80')]"
            ]
          },
          "metadata": {
            "tags": []
          },
          "execution_count": 60
        }
      ]
    },
    {
      "cell_type": "markdown",
      "metadata": {
        "id": "CfUePECh6yYV"
      },
      "source": [
        "***\n",
        "<a id='sampling_and_log_probs'></a>\n",
        "## Sampling and log probs"
      ]
    },
    {
      "cell_type": "code",
      "metadata": {
        "id": "1MbPPTRd6yYW",
        "colab": {
          "base_uri": "https://localhost:8080/"
        },
        "outputId": "422a4c95-aa90-4308-cd9d-1657303631e7"
      },
      "source": [
        "# Make Multivariate Distribution\n",
        "\n",
        "normal_distributions = tfd.MultivariateNormalDiag(loc=[[0.5, 1], [0.1, 0], [0, 0.2]],\n",
        "                                 scale_diag=[[2, 3], [1, 3], [4, 4]])\n",
        "normal_distributions"
      ],
      "execution_count": 61,
      "outputs": [
        {
          "output_type": "execute_result",
          "data": {
            "text/plain": [
              "<tfp.distributions.MultivariateNormalDiag 'MultivariateNormalDiag' batch_shape=[3] event_shape=[2] dtype=float32>"
            ]
          },
          "metadata": {
            "tags": []
          },
          "execution_count": 61
        }
      ]
    },
    {
      "cell_type": "code",
      "metadata": {
        "id": "Zx2qiwrP6yYW",
        "colab": {
          "base_uri": "https://localhost:8080/"
        },
        "outputId": "aee94e62-afcd-46ef-9b60-40887abd8012"
      },
      "source": [
        "# Sample\n",
        "\n",
        "normal_distributions.sample(5)"
      ],
      "execution_count": 62,
      "outputs": [
        {
          "output_type": "execute_result",
          "data": {
            "text/plain": [
              "<tf.Tensor: shape=(5, 3, 2), dtype=float32, numpy=\n",
              "array([[[ 0.5091041 , -0.8445163 ],\n",
              "        [ 0.02850274, -3.0092049 ],\n",
              "        [-0.3974903 , -1.042958  ]],\n",
              "\n",
              "       [[ 0.6262561 ,  5.6087756 ],\n",
              "        [ 1.1215973 ,  1.2328973 ],\n",
              "        [-0.40560478,  3.1582508 ]],\n",
              "\n",
              "       [[-0.6722883 , -0.80218244],\n",
              "        [-1.9256128 ,  4.744498  ],\n",
              "        [-6.2904224 ,  6.541386  ]],\n",
              "\n",
              "       [[ 0.9676162 ,  1.5398908 ],\n",
              "        [ 0.71216375,  0.40687203],\n",
              "        [-4.891378  ,  5.1315327 ]],\n",
              "\n",
              "       [[ 5.7533975 , -2.2254767 ],\n",
              "        [-1.2845665 ,  3.3190064 ],\n",
              "        [ 0.9985346 , -4.582544  ]]], dtype=float32)>"
            ]
          },
          "metadata": {
            "tags": []
          },
          "execution_count": 62
        }
      ]
    },
    {
      "cell_type": "code",
      "metadata": {
        "id": "TgOSyiYO6yYW",
        "colab": {
          "base_uri": "https://localhost:8080/"
        },
        "outputId": "2e1b49ce-aba0-436a-e4dc-ac7bfa2e67ac"
      },
      "source": [
        "# Multivariate Normal batched Distribution\n",
        "# We are broadcasting batch shapes of `loc` and `scal_diag` \n",
        "# against each other\n",
        "\n",
        "loc = [[[0.3, 1.5, 1.], [0.2, 0.4, 2.8]],\n",
        "        [[2., 2.3, 8], [1.4, 1, 1.3]]]\n",
        "scale_diag = [0.4, 1., 0.7]\n",
        "normal_distributions = tfd.MultivariateNormalDiag(loc=loc, scale_diag=scale_diag)\n",
        "normal_distributions"
      ],
      "execution_count": 63,
      "outputs": [
        {
          "output_type": "execute_result",
          "data": {
            "text/plain": [
              "<tfp.distributions.MultivariateNormalDiag 'MultivariateNormalDiag' batch_shape=[2, 2] event_shape=[3] dtype=float32>"
            ]
          },
          "metadata": {
            "tags": []
          },
          "execution_count": 63
        }
      ]
    },
    {
      "cell_type": "code",
      "metadata": {
        "id": "UIGNkyqI6yYW",
        "colab": {
          "base_uri": "https://localhost:8080/"
        },
        "outputId": "7251fdc6-3ca0-4e42-a0cb-b9c5802f7dca"
      },
      "source": [
        "# Use independent to move part of the batch shape\n",
        "ind_normal_distributions = tfd.Independent(normal_distributions,\n",
        "                                           reinterpreted_batch_ndims=1)\n",
        "ind_normal_distributions\n"
      ],
      "execution_count": 64,
      "outputs": [
        {
          "output_type": "execute_result",
          "data": {
            "text/plain": [
              "<tfp.distributions.Independent 'IndependentMultivariateNormalDiag' batch_shape=[2] event_shape=[2, 3] dtype=float32>"
            ]
          },
          "metadata": {
            "tags": []
          },
          "execution_count": 64
        }
      ]
    },
    {
      "cell_type": "code",
      "metadata": {
        "id": "3UjRIvd06yYW",
        "colab": {
          "base_uri": "https://localhost:8080/"
        },
        "outputId": "c5accbea-35d6-4e45-dfc7-146dffb29f19"
      },
      "source": [
        "# Draw some samples\n",
        "ind_normal_distributions = tfd.Independent(normal_distributions,\n",
        "                                           reinterpreted_batch_ndims=1)\n",
        "ind_normal_distributions\n"
      ],
      "execution_count": 65,
      "outputs": [
        {
          "output_type": "execute_result",
          "data": {
            "text/plain": [
              "<tfp.distributions.Independent 'IndependentMultivariateNormalDiag' batch_shape=[2] event_shape=[2, 3] dtype=float32>"
            ]
          },
          "metadata": {
            "tags": []
          },
          "execution_count": 65
        }
      ]
    },
    {
      "cell_type": "code",
      "metadata": {
        "id": "FldxyIvV6yYW",
        "colab": {
          "base_uri": "https://localhost:8080/"
        },
        "outputId": "9e934551-dca1-45be-dd6e-5815d17e427a"
      },
      "source": [
        "# `[B, E]` shaped input\n",
        "\n",
        "inp = tf.random.uniform((2, 2, 3))\n",
        "ind_normal_distributions.log_prob(inp)"
      ],
      "execution_count": 66,
      "outputs": [
        {
          "output_type": "execute_result",
          "data": {
            "text/plain": [
              "<tf.Tensor: shape=(2,), dtype=float32, numpy=array([-11.756409, -66.098785], dtype=float32)>"
            ]
          },
          "metadata": {
            "tags": []
          },
          "execution_count": 66
        }
      ]
    },
    {
      "cell_type": "code",
      "metadata": {
        "id": "ILfeub5p6yYW",
        "colab": {
          "base_uri": "https://localhost:8080/"
        },
        "outputId": "fa643d33-bacc-4d70-89cc-808f7a4a3b56"
      },
      "source": [
        "# `[E]` shaped input (broadcasting over batch size)\n",
        "inp = tf.random.uniform((2, 3))\n",
        "ind_normal_distributions.log_prob(inp)\n"
      ],
      "execution_count": 67,
      "outputs": [
        {
          "output_type": "execute_result",
          "data": {
            "text/plain": [
              "<tf.Tensor: shape=(2,), dtype=float32, numpy=array([-11.850761, -76.12896 ], dtype=float32)>"
            ]
          },
          "metadata": {
            "tags": []
          },
          "execution_count": 67
        }
      ]
    },
    {
      "cell_type": "code",
      "metadata": {
        "id": "mxe16mUs6yYW",
        "colab": {
          "base_uri": "https://localhost:8080/"
        },
        "outputId": "62539737-91fa-459d-ec37-99cc6e57aa3a"
      },
      "source": [
        "#`[S, B, E]` shaped input (broadcasting over samples)\n",
        "\n",
        "inp = tf.random.uniform((9, 2, 2, 3))\n",
        "ind_normal_distributions.log_prob(inp)"
      ],
      "execution_count": 68,
      "outputs": [
        {
          "output_type": "execute_result",
          "data": {
            "text/plain": [
              "<tf.Tensor: shape=(9, 2), dtype=float32, numpy=\n",
              "array([[ -8.763502 , -74.403946 ],\n",
              "       [ -8.963752 , -78.71576  ],\n",
              "       [-10.053402 , -67.10482  ],\n",
              "       [-10.113637 , -70.84384  ],\n",
              "       [ -8.458472 , -77.99654  ],\n",
              "       [-13.988488 , -74.964966 ],\n",
              "       [ -7.66702  , -65.602325 ],\n",
              "       [-10.51793  , -65.675446 ],\n",
              "       [-11.9138565, -72.61048  ]], dtype=float32)>"
            ]
          },
          "metadata": {
            "tags": []
          },
          "execution_count": 68
        }
      ]
    },
    {
      "cell_type": "code",
      "metadata": {
        "id": "tW8M3MJn6yYX",
        "colab": {
          "base_uri": "https://localhost:8080/"
        },
        "outputId": "8ec3313d-0149-4aa1-ae91-98120af36ed9"
      },
      "source": [
        "# `[S, b, e]` shaped input, where [b, e] is broadcastable over [B, E]\n",
        "inp = tf.random.uniform((9, 2, 2, 3))\n",
        "ind_normal_distributions.log_prob(inp)\n"
      ],
      "execution_count": 69,
      "outputs": [
        {
          "output_type": "execute_result",
          "data": {
            "text/plain": [
              "<tf.Tensor: shape=(9, 2), dtype=float32, numpy=\n",
              "array([[ -8.653174, -73.035774],\n",
              "       [-11.349136, -82.236465],\n",
              "       [-11.700007, -86.08632 ],\n",
              "       [-10.093328, -68.432274],\n",
              "       [-13.928906, -67.067215],\n",
              "       [ -9.957257, -75.16544 ],\n",
              "       [ -7.798339, -72.26232 ],\n",
              "       [ -9.571356, -66.88283 ],\n",
              "       [ -9.151235, -80.73013 ]], dtype=float32)>"
            ]
          },
          "metadata": {
            "tags": []
          },
          "execution_count": 69
        }
      ]
    },
    {
      "cell_type": "markdown",
      "metadata": {
        "id": "RsHLbgpX6yYX"
      },
      "source": [
        "#### Naive Bayes example\n",
        "\n",
        "Lets now use what we have learned and continue the Naive Bayes classifier we were building last tutorial."
      ]
    },
    {
      "cell_type": "code",
      "metadata": {
        "id": "9r5t0bg46yYX"
      },
      "source": [
        "from sklearn.datasets import fetch_20newsgroups\n",
        "from sklearn.feature_extraction.text import CountVectorizer\n",
        "from sklearn.naive_bayes import BernoulliNB\n",
        "from sklearn.metrics import f1_score"
      ],
      "execution_count": 70,
      "outputs": []
    },
    {
      "cell_type": "code",
      "metadata": {
        "id": "JXkDK_5k6yYX"
      },
      "source": [
        "# Making a function get_data which:\n",
        "#   1) Fetches the 20 newsgroup dataset\n",
        "#   2) Performs a word count on the articles and binarizes the result\n",
        "#   3) Returns the data as a numpy matrix with the labels\n",
        "\n",
        "def get_data(categories):\n",
        "    \n",
        "    newsgroups_train_data = fetch_20newsgroups(data_home='20_Newsgroup_Data/',\n",
        "                                               subset='train', categories=categories)\n",
        "    newsgroups_test_data = fetch_20newsgroups(data_home='20_Newsgroup_Data/',\n",
        "                                              subset='test', categories=categories)\n",
        "\n",
        "    n_documents = len(newsgroups_train_data['data'])\n",
        "    count_vectorizer = CountVectorizer(input='content', binary=True,max_df=0.25, min_df=1.01/n_documents)\n",
        "    \n",
        "    train_binary_bag_of_words = count_vectorizer.fit_transform(newsgroups_train_data['data'])\n",
        "    test_binary_bag_of_words = count_vectorizer.transform(newsgroups_test_data['data']) \n",
        "\n",
        "    return (train_binary_bag_of_words.todense(), newsgroups_train_data['target']),  (test_binary_bag_of_words.todense(), newsgroups_test_data['target'])"
      ],
      "execution_count": 71,
      "outputs": []
    },
    {
      "cell_type": "code",
      "metadata": {
        "id": "4esSyMhp6yYX"
      },
      "source": [
        "# Defining a function to conduct Laplace smoothing. This adds a base level of probability for a given feature\n",
        "# to occur in every class.\n",
        "\n",
        "def laplace_smoothing(labels, binary_data, n_classes):\n",
        "    # Compute the parameter estimates (adjusted fraction of documents in class that contain word)\n",
        "    n_words = binary_data.shape[1]\n",
        "    alpha = 1 # parameters for Laplace smoothing\n",
        "    theta = np.zeros([n_classes, n_words]) # stores parameter values - prob. word given class\n",
        "    for c_k in range(n_classes): # 0, 1, ..., 19\n",
        "        class_mask = (labels == c_k)\n",
        "        N = class_mask.sum() # number of articles in class\n",
        "        theta[c_k, :] = (binary_data[class_mask, :].sum(axis=0) + alpha)/(N + alpha*2)\n",
        "\n",
        "    return theta"
      ],
      "execution_count": 72,
      "outputs": []
    },
    {
      "cell_type": "code",
      "metadata": {
        "id": "ctfKi8Yj6yYX"
      },
      "source": [
        "# Getting a subset of the 20 newsgroup dataset\n",
        "\n",
        "categories = ['alt.atheism', 'talk.religion.misc', 'comp.graphics', 'sci.space']\n",
        "\n",
        "(train_data, train_labels), (test_data, test_labels) = get_data(categories=categories)\n",
        "smoothed_counts = laplace_smoothing(labels=train_labels, binary_data=train_data, n_classes=len(categories))"
      ],
      "execution_count": 73,
      "outputs": []
    },
    {
      "cell_type": "markdown",
      "metadata": {
        "id": "KhXJlAw56yYX"
      },
      "source": [
        "To now make our NB classifier we need to build three functions:\n",
        "* Compute the class priors\n",
        "* Build our class conditional distributions\n",
        "* Put it all together and classify our data"
      ]
    },
    {
      "cell_type": "code",
      "metadata": {
        "id": "FLJEgZ586yYX"
      },
      "source": [
        "# Function which computes the prior probability of every class based on frequency of occurence in \n",
        "# the dataset\n",
        "\n",
        "def class_priors(n_classes, labels):\n",
        "    counts = np.zeros(n_classes)\n",
        "    for c_k in range(n_classes):\n",
        "        counts[c_k] = np.sum(np.where(labels==c_k, 1, 0))\n",
        "    priors = counts / np.sum(counts)\n",
        "    print('The class priors are {}'.format(priors))\n",
        "    return priors"
      ],
      "execution_count": 74,
      "outputs": []
    },
    {
      "cell_type": "code",
      "metadata": {
        "id": "a9Axa2Gy6yYY",
        "colab": {
          "base_uri": "https://localhost:8080/"
        },
        "outputId": "b97d758f-db9c-4e73-edb3-28ab96949d75"
      },
      "source": [
        "# Run the function \n",
        "priors = class_priors(n_classes=len(categories), labels=train_labels)\n"
      ],
      "execution_count": 75,
      "outputs": [
        {
          "output_type": "stream",
          "text": [
            "The class priors are [0.2359882  0.28711898 0.29154376 0.18534907]\n"
          ],
          "name": "stdout"
        }
      ]
    },
    {
      "cell_type": "code",
      "metadata": {
        "id": "gBl4wMF06yYY",
        "colab": {
          "base_uri": "https://localhost:8080/"
        },
        "outputId": "7596eae9-9c84-4cd0-fc09-b0579ddaced4"
      },
      "source": [
        "# Now we will do a function that given the feature occurence counts returns a Bernoulli distribution of \n",
        "# batch_shape=number of classes and event_shape=number of features.\n",
        "def make_distributions(probs):\n",
        "    batch_of_bernoullis = tfd.Bernoulli(probs=probs)\n",
        "    dist = tfd.Independent(batch_of_bernoullis,\n",
        "                            reinterpreted_batch_ndims=1)\n",
        "    return dist\n",
        "\n",
        "tf_dist = make_distributions(smoothed_counts)\n",
        "tf_dist\n"
      ],
      "execution_count": 76,
      "outputs": [
        {
          "output_type": "execute_result",
          "data": {
            "text/plain": [
              "<tfp.distributions.Independent 'IndependentBernoulli' batch_shape=[4] event_shape=[17495] dtype=int32>"
            ]
          },
          "metadata": {
            "tags": []
          },
          "execution_count": 76
        }
      ]
    },
    {
      "cell_type": "code",
      "metadata": {
        "id": "sXTqTFIt6yYY"
      },
      "source": [
        "# The final function predict_sample which given the distribution, a test sample, and the class priors:\n",
        "#   1) Computes the class conditional probabilities given the sample\n",
        "#   2) Forms the joint likelihood\n",
        "#   3) Normalises the joint likelihood and returns the log prob\n",
        "def predict_sample(dist, sample, priors):\n",
        "    cond_probs = dist.log_prob(sample)\n",
        "    joint_likelihood = tf.add(np.log(priors), cond_probs)\n",
        "    norm_factor = tf.math.reduce_logsumexp(joint_likelihood, axis=-1, keepdims=True)\n",
        "    log_prob = joint_likelihood - norm_factor\n",
        "\n",
        "    return log_prob\n"
      ],
      "execution_count": 77,
      "outputs": []
    },
    {
      "cell_type": "markdown",
      "metadata": {
        "id": "6_7ZdT6g6yYY"
      },
      "source": [
        "#### Computing log_probs"
      ]
    },
    {
      "cell_type": "code",
      "metadata": {
        "id": "S3UMhtp26yYY",
        "colab": {
          "base_uri": "https://localhost:8080/"
        },
        "outputId": "573c3b3d-7d4e-44a2-a9ff-82d7b8f2806b"
      },
      "source": [
        "# Predicting one example from our test data\n",
        "\n",
        "log_probs = predict_sample(tf_dist, test_data[0], priors)\n",
        "log_probs"
      ],
      "execution_count": 78,
      "outputs": [
        {
          "output_type": "execute_result",
          "data": {
            "text/plain": [
              "<tf.Tensor: shape=(4,), dtype=float32, numpy=\n",
              "array([-6.1736359e+01, -1.5258789e-05, -1.1619873e+01, -6.3327652e+01],\n",
              "      dtype=float32)>"
            ]
          },
          "metadata": {
            "tags": []
          },
          "execution_count": 78
        }
      ]
    },
    {
      "cell_type": "code",
      "metadata": {
        "id": "J7_jmW5p6yYY",
        "colab": {
          "base_uri": "https://localhost:8080/"
        },
        "outputId": "1e588e81-5615-4ae8-d05e-de1c604bfd2c"
      },
      "source": [
        "# Loop over our test data and classify.\n",
        "\n",
        "probabilities = []\n",
        "for sample, label in zip(test_data, test_labels):\n",
        "    probabilities.append(tf.exp(predict_sample(tf_dist, sample, priors)))\n",
        "\n",
        "probabilities = np.asarray(probabilities)\n",
        "predicted_classes = np.argmax(probabilities, axis =-1)\n",
        "print('f1 ', f1_score(test_labels, predicted_classes, average='macro'))"
      ],
      "execution_count": 79,
      "outputs": [
        {
          "output_type": "stream",
          "text": [
            "f1  0.7848499112849504\n"
          ],
          "name": "stdout"
        }
      ]
    },
    {
      "cell_type": "code",
      "metadata": {
        "id": "PT8VmpW96yYY",
        "colab": {
          "base_uri": "https://localhost:8080/"
        },
        "outputId": "212c9811-40ad-4bd8-a055-90b9b838b85a"
      },
      "source": [
        "# Make a Bernoulli Naive Bayes classifier using sklearn with the same level of alpha smoothing. \n",
        "\n",
        "clf = BernoulliNB(alpha=1)\n",
        "clf.fit(train_data, train_labels)\n",
        "pred = clf.predict(test_data)\n",
        "print('f1 from sklean ', f1_score(test_labels, pred, average='macro'))"
      ],
      "execution_count": 80,
      "outputs": [
        {
          "output_type": "stream",
          "text": [
            "f1 from sklean  0.7848499112849504\n"
          ],
          "name": "stdout"
        }
      ]
    },
    {
      "cell_type": "markdown",
      "metadata": {
        "id": "L8cwTp386yYY"
      },
      "source": [
        "***\n",
        "<a id='trainable_distributions'></a>\n",
        "## Trainable Distributions"
      ]
    },
    {
      "cell_type": "code",
      "metadata": {
        "id": "OePaMA636yYZ"
      },
      "source": [
        "from sklearn.datasets import fetch_20newsgroups\n",
        "from sklearn.feature_extraction.text import CountVectorizer\n",
        "from sklearn.naive_bayes import BernoulliNB\n",
        "from sklearn.metrics import f1_score"
      ],
      "execution_count": 81,
      "outputs": []
    },
    {
      "cell_type": "code",
      "metadata": {
        "id": "cai3dDzR6yYZ"
      },
      "source": [
        "# Define an exponential distribution\n",
        "\n",
        "exponential = tfd.Exponential(rate=0.3, name='exp')"
      ],
      "execution_count": 82,
      "outputs": []
    },
    {
      "cell_type": "code",
      "metadata": {
        "id": "l8dwVy0l6yYZ",
        "colab": {
          "base_uri": "https://localhost:8080/",
          "height": 266
        },
        "outputId": "5d3b4422-e260-412b-8a0c-c73e41226640"
      },
      "source": [
        "# Plot\n",
        "\n",
        "plt.hist(exponential.sample(5000), bins=100, density=True)\n",
        "plt.show()"
      ],
      "execution_count": 83,
      "outputs": [
        {
          "output_type": "display_data",
          "data": {
            "image/png": "[encoded data removed]",
            "text/plain": [
              "<Figure size 432x288 with 1 Axes>"
            ]
          },
          "metadata": {
            "tags": [],
            "needs_background": "light"
          }
        }
      ]
    },
    {
      "cell_type": "code",
      "metadata": {
        "id": "4MtdChAe6yYZ",
        "colab": {
          "base_uri": "https://localhost:8080/"
        },
        "outputId": "fa42474c-8a39-48b6-8997-283d044e62ec"
      },
      "source": [
        "# Define an exponential distribution with a trainable rate parameter\n",
        "\n",
        "exp_train = tfd.Exponential(rate=tf.Variable(1., name='rate'), name='exp_train')\n",
        "exp_train.trainable_variables"
      ],
      "execution_count": 89,
      "outputs": [
        {
          "output_type": "execute_result",
          "data": {
            "text/plain": [
              "(<tf.Variable 'rate:0' shape=() dtype=float32, numpy=1.0>,)"
            ]
          },
          "metadata": {
            "tags": []
          },
          "execution_count": 89
        }
      ]
    },
    {
      "cell_type": "code",
      "metadata": {
        "id": "HEk9prpr6yYZ"
      },
      "source": [
        "# Define the negative log likelihood\n",
        "def nll(x_train, distribution):\n",
        "    return -tf.reduce_mean(distribution.log_prob(x_train))\n"
      ],
      "execution_count": 90,
      "outputs": []
    },
    {
      "cell_type": "code",
      "metadata": {
        "id": "MNh8zrMn6yYZ"
      },
      "source": [
        "# Define a function to compute the loss and gradients\n",
        "\n",
        "@tf.function\n",
        "def get_loss_and_grads(x_train, distribution):\n",
        "    with tf.GradientTape() as tape:\n",
        "        tape.watch(distribution.trainable_variables)\n",
        "        loss = nll(x_train, distribution)\n",
        "    grads = tape.gradient(loss, distribution.trainable_variables)\n",
        "    return loss, grads"
      ],
      "execution_count": 91,
      "outputs": []
    },
    {
      "cell_type": "code",
      "metadata": {
        "id": "nGFoJViu6yYZ"
      },
      "source": [
        "# Optimize\n",
        "\n",
        "def exponential_dist_optimisation(data, distribution):\n",
        "\n",
        "    # Keep results for plotting\n",
        "    train_loss_results = []\n",
        "    train_rate_results = []\n",
        "    \n",
        "    optimizer = tf.keras.optimizers.SGD(learning_rate=0.05)\n",
        "\n",
        "    num_steps = 10\n",
        "\n",
        "    for i in range(num_steps):\n",
        "        loss, grads = get_loss_and_grads(data, distribution)\n",
        "        optimizer.apply_gradients(zip(grads, distribution.trainable_variables))\n",
        "\n",
        "        rate_value = distribution.rate.value()\n",
        "        train_loss_results.append(loss)\n",
        "        train_rate_results.append(rate_value)\n",
        "        print(\"Step {:03d}: Loss: {:.3f}: Rate: {:.3f}\".format(i, loss, rate_value))\n",
        "        \n",
        "    return train_loss_results, train_rate_results"
      ],
      "execution_count": 95,
      "outputs": []
    },
    {
      "cell_type": "code",
      "metadata": {
        "id": "fJSfbyZR6yYZ",
        "colab": {
          "base_uri": "https://localhost:8080/"
        },
        "outputId": "2705e258-48df-4f6d-c285-932119d83d29"
      },
      "source": [
        "# Get some data and train\n",
        "\n",
        "sampled_data = exponential.sample(5000)\n",
        "train_loss_results, train_rate_results = exponential_dist_optimisation(data=sampled_data, distribution=exp_train)"
      ],
      "execution_count": 96,
      "outputs": [
        {
          "output_type": "stream",
          "text": [
            "Step 000: Loss: 3.376: Rate: 0.881\n",
            "Step 001: Loss: 3.102: Rate: 0.769\n",
            "Step 002: Loss: 2.859: Rate: 0.665\n",
            "Step 003: Loss: 2.654: Rate: 0.572\n",
            "Step 004: Loss: 2.489: Rate: 0.490\n",
            "Step 005: Loss: 2.368: Rate: 0.423\n",
            "Step 006: Loss: 2.289: Rate: 0.373\n",
            "Step 007: Loss: 2.245: Rate: 0.338\n",
            "Step 008: Loss: 2.226: Rate: 0.317\n",
            "Step 009: Loss: 2.219: Rate: 0.306\n"
          ],
          "name": "stdout"
        }
      ]
    },
    {
      "cell_type": "code",
      "metadata": {
        "id": "8FhXWYL76yYZ",
        "colab": {
          "base_uri": "https://localhost:8080/"
        },
        "outputId": "139d056c-2659-4fe6-c1e4-167fc0f5e57a"
      },
      "source": [
        "# Predicted value for the rate parameter\n",
        "\n",
        "pred_value = exp_train.rate.numpy()\n",
        "exact_value = exponential.rate.numpy()\n",
        "\n",
        "print(\"Exact rate: \", exact_value)\n",
        "print(\"Pred rate:  \", pred_value)"
      ],
      "execution_count": 97,
      "outputs": [
        {
          "output_type": "stream",
          "text": [
            "Exact rate:  0.3\n",
            "Pred rate:   0.30598694\n"
          ],
          "name": "stdout"
        }
      ]
    },
    {
      "cell_type": "code",
      "metadata": {
        "id": "iCSnme9c6yYa",
        "colab": {
          "base_uri": "https://localhost:8080/",
          "height": 558
        },
        "outputId": "5b0330a9-878a-4c52-bf30-b440996281f6"
      },
      "source": [
        "# Plot to see the convergence of the estimated and true parameters\n",
        "\n",
        "tensor_exact_value = tf.constant(exact_value, shape=[len(train_rate_results)])\n",
        "\n",
        "fig, axes = plt.subplots(2, sharex=True, figsize=(12, 8))\n",
        "fig.suptitle('Convergence')\n",
        "\n",
        "axes[0].set_ylabel(\"Loss\", fontsize=14)\n",
        "axes[0].plot(train_loss_results)\n",
        "\n",
        "axes[1].set_ylabel(\"Rate\", fontsize=14)\n",
        "axes[1].set_xlabel(\"Epoch\", fontsize=14)\n",
        "axes[1].plot(train_rate_results, label='trainable rate variable')\n",
        "axes[1].plot(tensor_exact_value, label='exact rate')\n",
        "axes[1].legend()\n",
        "plt.show()"
      ],
      "execution_count": 98,
      "outputs": [
        {
          "output_type": "display_data",
          "data": {
            "image/png": "[encoded data removed]",
            "text/plain": [
              "<Figure size 864x576 with 2 Axes>"
            ]
          },
          "metadata": {
            "tags": [],
            "needs_background": "light"
          }
        }
      ]
    },
    {
      "cell_type": "code",
      "metadata": {
        "id": "9hs4RfC76yYa"
      },
      "source": [
        "# Making a function get_data which:\n",
        "#   1) Fetches the 20 newsgroup dataset\n",
        "#   2) Performs a word count on the articles and binarizes the result\n",
        "#   3) Returns the data as a numpy matrix with the labels\n",
        "\n",
        "def get_data(categories):\n",
        "\n",
        "    newsgroups_train_data = fetch_20newsgroups(data_home='20_Newsgroup_Data/',\n",
        "                                               subset='train', categories=categories)\n",
        "    newsgroups_test_data = fetch_20newsgroups(data_home='20_Newsgroup_Data/',\n",
        "                                              subset='test', categories=categories)\n",
        "\n",
        "    n_documents = len(newsgroups_train_data['data'])\n",
        "    count_vectorizer = CountVectorizer(input='content', binary=True,max_df=0.25, min_df=1.01/n_documents) \n",
        "    train_binary_bag_of_words = count_vectorizer.fit_transform(newsgroups_train_data['data']) \n",
        "    test_binary_bag_of_words = count_vectorizer.transform(newsgroups_test_data['data']) \n",
        "\n",
        "    return (train_binary_bag_of_words.todense(), newsgroups_train_data['target']),  (test_binary_bag_of_words.todense(), newsgroups_test_data['target'])\n"
      ],
      "execution_count": 99,
      "outputs": []
    },
    {
      "cell_type": "code",
      "metadata": {
        "id": "9m2khmU-6yYa"
      },
      "source": [
        "# Defining a function to conduct laplace smoothing. This adds a base level of probability for a given feature\n",
        "# to occur in every class.\n",
        "\n",
        "def laplace_smoothing(labels, binary_data, n_classes):\n",
        "    # Compute the parameter estimates (adjusted fraction of documents in class that contain word)\n",
        "    n_words = binary_data.shape[1]\n",
        "    alpha = 1 # parameters for Laplace smoothing\n",
        "    theta = np.zeros([n_classes, n_words]) # stores parameter values - prob. word given class\n",
        "    for c_k in range(n_classes): # 0, 1, ..., 19\n",
        "        class_mask = (labels == c_k)\n",
        "        N = class_mask.sum() # number of articles in class\n",
        "        theta[c_k, :] = (binary_data[class_mask, :].sum(axis=0) + alpha)/(N + alpha*2)\n",
        "\n",
        "    return theta"
      ],
      "execution_count": 100,
      "outputs": []
    },
    {
      "cell_type": "code",
      "metadata": {
        "id": "2YStsafi6yYa"
      },
      "source": [
        "# Now we will do a function that given the feature occurence counts returns a Bernoulli distribution of \n",
        "# batch_shape=number of classes and event_shape=number of features.\n",
        "\n",
        "def make_distributions(probs):\n",
        "    batch_of_bernoullis = tfd.Bernoulli(probs=probs) # shape (n_classes, n_words)\n",
        "    dist = tfd.Independent(batch_of_bernoullis, reinterpreted_batch_ndims=1)\n",
        "    return dist"
      ],
      "execution_count": 101,
      "outputs": []
    },
    {
      "cell_type": "code",
      "metadata": {
        "id": "LdWyHODr6yYa"
      },
      "source": [
        "# Function which computes the prior probability of every class based on frequency of occurence in \n",
        "# the dataset\n",
        "\n",
        "def class_priors(n_classes, labels):\n",
        "    counts = np.zeros(n_classes)\n",
        "    for c_k in range(n_classes):\n",
        "        counts[c_k] = np.sum(np.where(labels==c_k, 1, 0))\n",
        "    priors = counts / np.sum(counts)\n",
        "    print('The class priors are {}'.format(priors))\n",
        "    return priors"
      ],
      "execution_count": 102,
      "outputs": []
    },
    {
      "cell_type": "code",
      "metadata": {
        "id": "EXdi5FmU6yYa"
      },
      "source": [
        "# The final function predict_sample which given the distribution, a test sample, and the class priors:\n",
        "#   1) Computes the class conditional probabilities given the sample\n",
        "#   2) Forms the joint likelihood\n",
        "#   3) Normalises the joint likelihood and returns the log prob\n",
        "\n",
        "def predict_sample(dist, sample, priors):\n",
        "    cond_probs = dist.log_prob(sample)\n",
        "    joint_likelihood = tf.add(np.log(priors), cond_probs)\n",
        "    norm_factor = tf.math.reduce_logsumexp(joint_likelihood, axis=-1, keepdims=True)\n",
        "    log_prob = joint_likelihood - norm_factor\n",
        "\n",
        "    return log_prob"
      ],
      "execution_count": 103,
      "outputs": []
    },
    {
      "cell_type": "code",
      "metadata": {
        "id": "7zhn8EOr6yYa"
      },
      "source": [
        "# Now we learn the distribution using gradient tape\n",
        "\n",
        "\n",
        "def make_distribution_withGT(data, labels, nb_classes):\n",
        "\n",
        "    class_data = []\n",
        "    train_vars = []\n",
        "    distributions = []\n",
        "    for c in range(nb_classes):\n",
        "        train_vars.append(tf.Variable(initial_value=np.random.uniform(low=0.01, high =0.1, size=data.shape[-1])))\n",
        "        distributions.append(tfd.Bernoulli(probs=train_vars[c]))\n",
        "        class_mask = (labels == c)\n",
        "        class_data.append(data[class_mask, :])\n",
        "\n",
        "    for c_num in range(0,nb_classes):\n",
        "        optimizer = tf.keras.optimizers.Adam()\n",
        "        print('\\n%-------------------%')\n",
        "        print('Class ', c_num)\n",
        "        print('%-------------------%')\n",
        "\n",
        "        for i in range(0,100):\n",
        "            loss, grads = get_loss_and_grads(class_data[c_num], distributions[c_num])\n",
        "            if(i%10==0):\n",
        "                print('iter: {} loss: {}'.format(i, loss))\n",
        "            optimizer.apply_gradients(zip(grads, distributions[c_num].trainable_variables))\n",
        "            eta = 1e-3\n",
        "            clipped_probs = tf.clip_by_value(distributions[c_num].trainable_variables,\n",
        "                                             clip_value_min=eta, clip_value_max=1)\n",
        "            train_vars[c_num] = tf.squeeze(clipped_probs)\n",
        "            \n",
        "\n",
        "    dist = tfd.Bernoulli(probs=train_vars)\n",
        "    dist = tfd.Independent(dist,reinterpreted_batch_ndims=1)\n",
        "\n",
        "    print(dist)\n",
        "\n",
        "    return dist\n"
      ],
      "execution_count": 105,
      "outputs": []
    },
    {
      "cell_type": "code",
      "metadata": {
        "id": "TcHRraSU6yYa",
        "colab": {
          "base_uri": "https://localhost:8080/"
        },
        "outputId": "f71d27c4-6c1e-48a8-cc0e-1c25dd7c1125"
      },
      "source": [
        "# Make the same Naive Bayes classifier we did last tutorial\n",
        "\n",
        "categories = ['alt.atheism', 'talk.religion.misc', 'comp.graphics', 'sci.space']\n",
        "\n",
        "(train_data, train_labels), (test_data, test_labels) = get_data(categories)\n",
        "\n",
        "smoothed_counts = laplace_smoothing(labels=train_labels, binary_data=train_data, n_classes=len(categories))\n",
        "\n",
        "priors = class_priors(n_classes=len(categories), labels=train_labels)\n",
        "tf_dist = make_distributions(smoothed_counts)"
      ],
      "execution_count": 106,
      "outputs": [
        {
          "output_type": "stream",
          "text": [
            "The class priors are [0.2359882  0.28711898 0.29154376 0.18534907]\n"
          ],
          "name": "stdout"
        }
      ]
    },
    {
      "cell_type": "code",
      "metadata": {
        "id": "RIgcKE_z6yYb",
        "colab": {
          "base_uri": "https://localhost:8080/"
        },
        "outputId": "bcf08912-a787-4084-a812-6362ec8c4a3c"
      },
      "source": [
        "# Now train the distributions with gradient tape\n",
        "\n",
        "GT_dist = make_distribution_withGT(data=train_data, labels=train_labels, nb_classes=4)"
      ],
      "execution_count": 107,
      "outputs": [
        {
          "output_type": "stream",
          "text": [
            "\n",
            "%-------------------%\n",
            "Class  0\n",
            "%-------------------%\n",
            "iter: 0 loss: 0.0784394410489853\n",
            "iter: 10 loss: 0.06906962299943133\n",
            "iter: 20 loss: 0.06034716954954809\n",
            "iter: 30 loss: 0.05228124291170158\n",
            "iter: 40 loss: 0.04481576660471018\n",
            "iter: 50 loss: 0.03789892965822466\n",
            "iter: 60 loss: 0.031493010518010386\n",
            "iter: 70 loss: 0.02557475638496209\n",
            "iter: 80 loss: 0.020097179138907045\n",
            "iter: 90 loss: 0.015007212922548174\n",
            "\n",
            "%-------------------%\n",
            "Class  1\n",
            "%-------------------%\n",
            "iter: 0 loss: 0.07155545662379506\n",
            "iter: 10 loss: 0.06223036184620812\n",
            "iter: 20 loss: 0.05346014624258381\n",
            "iter: 30 loss: 0.04531255509169286\n",
            "iter: 40 loss: 0.03776242668590892\n",
            "iter: 50 loss: 0.030764102371142705\n",
            "iter: 60 loss: 0.024290242564202025\n",
            "iter: 70 loss: 0.018295604401431177\n",
            "iter: 80 loss: 0.012754972628051099\n",
            "iter: 90 loss: 0.007624713722301691\n",
            "\n",
            "%-------------------%\n",
            "Class  2\n",
            "%-------------------%\n",
            "iter: 0 loss: 0.07856258589548398\n",
            "iter: 10 loss: 0.06947299983422207\n",
            "iter: 20 loss: 0.06109635087906545\n",
            "iter: 30 loss: 0.05345721831637091\n",
            "iter: 40 loss: 0.04651354551542878\n",
            "iter: 50 loss: 0.04022219263830567\n",
            "iter: 60 loss: 0.034545494379583326\n",
            "iter: 70 loss: 0.02943924153477545\n",
            "iter: 80 loss: 0.02485169578768028\n",
            "iter: 90 loss: 0.020716574908978175\n",
            "\n",
            "%-------------------%\n",
            "Class  3\n",
            "%-------------------%\n",
            "iter: 0 loss: 0.07966013387437676\n",
            "iter: 10 loss: 0.0703820982692504\n",
            "iter: 20 loss: 0.06176655441042808\n",
            "iter: 30 loss: 0.053793666460657925\n",
            "iter: 40 loss: 0.04640321174599956\n",
            "iter: 50 loss: 0.03955694631528943\n",
            "iter: 60 loss: 0.03320930545545449\n",
            "iter: 70 loss: 0.02732780410865748\n",
            "iter: 80 loss: 0.021859128145664285\n",
            "iter: 90 loss: 0.016747223879384036\n",
            "tfp.distributions.Independent(\"IndependentBernoulli\", batch_shape=[4], event_shape=[17495], dtype=int32)\n"
          ],
          "name": "stdout"
        }
      ]
    },
    {
      "cell_type": "code",
      "metadata": {
        "id": "vgtSJuQj6yYb",
        "colab": {
          "base_uri": "https://localhost:8080/"
        },
        "outputId": "ce0e90f0-4bb6-4dbb-da34-10af2f928d7d"
      },
      "source": [
        "# Compare the two results\n",
        "\n",
        "for dist in [GT_dist,tf_dist]:\n",
        "    probabilities = []\n",
        "    for sample, label in zip(test_data, test_labels):\n",
        "        probabilities.append(predict_sample(dist, sample, priors))\n",
        "\n",
        "    probabilities = np.asarray(probabilities)\n",
        "    predicted_classes = np.argmax(probabilities, axis =-1)\n",
        "    print('f1 ', f1_score(test_labels, predicted_classes, average='macro'))"
      ],
      "execution_count": 108,
      "outputs": [
        {
          "output_type": "stream",
          "text": [
            "f1  0.8308155055154623\n",
            "f1  0.7848499112849504\n"
          ],
          "name": "stdout"
        }
      ]
    },
    {
      "cell_type": "code",
      "metadata": {
        "id": "p5CVzaAoi5z9"
      },
      "source": [
        ""
      ],
      "execution_count": null,
      "outputs": []
    }
  ]
}