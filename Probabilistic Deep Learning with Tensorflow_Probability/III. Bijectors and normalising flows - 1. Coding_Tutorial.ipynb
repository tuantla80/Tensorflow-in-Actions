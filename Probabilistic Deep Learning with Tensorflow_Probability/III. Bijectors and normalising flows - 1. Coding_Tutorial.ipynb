{
  "nbformat": 4,
  "nbformat_minor": 0,
  "metadata": {
    "kernelspec": {
      "display_name": "Python 3",
      "language": "python",
      "name": "python3"
    },
    "language_info": {
      "codemirror_mode": {
        "name": "ipython",
        "version": 3
      },
      "file_extension": ".py",
      "mimetype": "text/x-python",
      "name": "python",
      "nbconvert_exporter": "python",
      "pygments_lexer": "ipython3",
      "version": "3.7.1"
    },
    "colab": {
      "name": "Coding Tutorial.ipynb",
      "provenance": [],
      "collapsed_sections": [
        "YwoQHX7sqySy",
        "-dsVcPrkqyS3",
        "TX4Pa-mhqyS8",
        "q6Fm70pBqyUU",
        "fw7wNX9hqyUf",
        "fHx5KxujqyUq",
        "qVUEl_FuqyVM",
        "MV74vXBYqyVb"
      ]
    }
  },
  "cells": [
    {
      "cell_type": "code",
      "metadata": {
        "id": "zx3E09_-qySM",
        "colab": {
          "base_uri": "https://localhost:8080/"
        },
        "outputId": "5f4d147e-3b66-416e-9cce-67b499d28ab0"
      },
      "source": [
        "import tensorflow as tf\n",
        "import tensorflow_probability as tfp\n",
        "tfd = tfp.distributions\n",
        "tfb = tfp.bijectors\n",
        "tfpl = tfp.layers\n",
        "\n",
        "print(\"TF version:\", tf.__version__)\n",
        "print(\"TFP version:\", tfp.__version__)"
      ],
      "execution_count": 1,
      "outputs": [
        {
          "output_type": "stream",
          "text": [
            "TF version: 2.4.1\n",
            "TFP version: 0.12.1\n"
          ],
          "name": "stdout"
        }
      ]
    },
    {
      "cell_type": "code",
      "metadata": {
        "id": "gphvfXHHqySR"
      },
      "source": [
        "import numpy as np\n",
        "import pandas as pd\n",
        "import matplotlib.pyplot as plt"
      ],
      "execution_count": 2,
      "outputs": []
    },
    {
      "cell_type": "markdown",
      "metadata": {
        "id": "rLPDgg2wqySU"
      },
      "source": [
        "# Bijectors and normalising flows"
      ]
    },
    {
      "cell_type": "markdown",
      "metadata": {
        "id": "N3qO9kPxqySV"
      },
      "source": [
        " ## Coding tutorials\n",
        " #### [1. Bijectors](#coding_tutorial_1)\n",
        " #### [2. The TransformedDistribution class](#coding_tutorial_2)\n",
        " #### [3. Subclassing bijectors](#coding_tutorial_3)\n",
        " #### [4. Normalising flows](#coding_tutorial_4)"
      ]
    },
    {
      "cell_type": "markdown",
      "metadata": {
        "id": "DG5tqsTrqySV"
      },
      "source": [
        "***\n",
        "<a id=\"coding_tutorial_1\"></a>\n",
        "## Bijectors"
      ]
    },
    {
      "cell_type": "code",
      "metadata": {
        "id": "YJ8lkWUbqySW"
      },
      "source": [
        "# Define base distribution\n",
        "normal = tfd.Normal(loc=0., scale=1.)\n"
      ],
      "execution_count": 3,
      "outputs": []
    },
    {
      "cell_type": "code",
      "metadata": {
        "id": "5uJ7uomKqySZ"
      },
      "source": [
        "# Sample from base distribution\n",
        "n = 10000\n",
        "z = normal.sample(n)\n",
        "\n"
      ],
      "execution_count": 4,
      "outputs": []
    },
    {
      "cell_type": "markdown",
      "metadata": {
        "id": "-NnivmlaqySc"
      },
      "source": [
        "### Scale and shift bijector"
      ]
    },
    {
      "cell_type": "code",
      "metadata": {
        "id": "qf5C5iRBqySd"
      },
      "source": [
        "# Define scale and shift\n",
        "scale = 4.5\n",
        "shift = 7\n"
      ],
      "execution_count": 5,
      "outputs": []
    },
    {
      "cell_type": "code",
      "metadata": {
        "id": "BUsrueO0qySf"
      },
      "source": [
        "# Define chain bijector\n",
        "scale_and_shift = tfb.Chain([tfb.Shift(shift), tfb.Scale(scale)])\n"
      ],
      "execution_count": 6,
      "outputs": []
    },
    {
      "cell_type": "code",
      "metadata": {
        "id": "RCEgLBz7qySi"
      },
      "source": [
        "# We can also use call methods\n",
        "\n",
        "scale_transf = tfb.Scale(scale)\n",
        "shift_tranf = tfb.Shift(shift)\n",
        "scale_and_shift = shift_tranf(scale_transf)"
      ],
      "execution_count": 7,
      "outputs": []
    },
    {
      "cell_type": "code",
      "metadata": {
        "id": "qSXf4yGhqySm"
      },
      "source": [
        "# Apply the forward transformation\n",
        "\n",
        "x = scale_and_shift.forward(z)"
      ],
      "execution_count": 8,
      "outputs": []
    },
    {
      "cell_type": "code",
      "metadata": {
        "id": "hrJAn2BcqySo",
        "colab": {
          "base_uri": "https://localhost:8080/"
        },
        "outputId": "251d1a05-b09c-4181-d61d-6a69ae118610"
      },
      "source": [
        "# Check the forward transformation\n",
        "\n",
        "tf.norm(x - (scale*z + shift))"
      ],
      "execution_count": 9,
      "outputs": [
        {
          "output_type": "execute_result",
          "data": {
            "text/plain": [
              "<tf.Tensor: shape=(), dtype=float32, numpy=0.0>"
            ]
          },
          "metadata": {
            "tags": []
          },
          "execution_count": 9
        }
      ]
    },
    {
      "cell_type": "markdown",
      "metadata": {
        "id": "HzUkVbu7qySs"
      },
      "source": [
        "#### Plots"
      ]
    },
    {
      "cell_type": "code",
      "metadata": {
        "id": "IXWKCQOKqySt",
        "colab": {
          "base_uri": "https://localhost:8080/",
          "height": 265
        },
        "outputId": "c4c48ed5-d779-46ee-d20a-866b7fc2bd01"
      },
      "source": [
        "# Plot z density\n",
        "\n",
        "plt.hist(z, bins=60, density=True)\n",
        "plt.show()"
      ],
      "execution_count": 10,
      "outputs": [
        {
          "output_type": "display_data",
          "data": {
            "image/png": "[encoded data removed]",
            "text/plain": [
              "<Figure size 432x288 with 1 Axes>"
            ]
          },
          "metadata": {
            "tags": [],
            "needs_background": "light"
          }
        }
      ]
    },
    {
      "cell_type": "code",
      "metadata": {
        "id": "b6jaxQfyqySv",
        "colab": {
          "base_uri": "https://localhost:8080/",
          "height": 268
        },
        "outputId": "246b06e0-9b15-4efa-ba3e-9790576360e4"
      },
      "source": [
        "# Plot x density\n",
        "\n",
        "plt.hist(x, bins=60, density=True)\n",
        "plt.show()"
      ],
      "execution_count": 12,
      "outputs": [
        {
          "output_type": "display_data",
          "data": {
            "image/png": "[encoded data removed]",
            "text/plain": [
              "<Figure size 432x288 with 1 Axes>"
            ]
          },
          "metadata": {
            "tags": [],
            "needs_background": "light"
          }
        }
      ]
    },
    {
      "cell_type": "markdown",
      "metadata": {
        "id": "YwoQHX7sqySy"
      },
      "source": [
        "#### Inverse transformation"
      ]
    },
    {
      "cell_type": "code",
      "metadata": {
        "id": "OaTMta04qySy"
      },
      "source": [
        "# Apply inverse transformation\n",
        "\n",
        "inv_x = scale_and_shift.inverse(x)"
      ],
      "execution_count": 13,
      "outputs": []
    },
    {
      "cell_type": "code",
      "metadata": {
        "id": "lA-aZWb7qyS1",
        "colab": {
          "base_uri": "https://localhost:8080/"
        },
        "outputId": "6bee7fc0-0275-45cc-cc8d-18f568e3bc2d"
      },
      "source": [
        "# Check inverse transformation\n",
        "\n",
        "tf.norm(inv_x - z)"
      ],
      "execution_count": 14,
      "outputs": [
        {
          "output_type": "execute_result",
          "data": {
            "text/plain": [
              "<tf.Tensor: shape=(), dtype=float32, numpy=0.0>"
            ]
          },
          "metadata": {
            "tags": []
          },
          "execution_count": 14
        }
      ]
    },
    {
      "cell_type": "markdown",
      "metadata": {
        "id": "-dsVcPrkqyS3"
      },
      "source": [
        "#### Log probability"
      ]
    },
    {
      "cell_type": "code",
      "metadata": {
        "id": "gOT_fEIcqyS3",
        "colab": {
          "base_uri": "https://localhost:8080/"
        },
        "outputId": "aa0eef74-0fec-4569-ce77-1dccfeaeec44"
      },
      "source": [
        "# Compute log prob for x\n",
        "\n",
        "log_prob_x = normal.log_prob(z) - scale_and_shift.forward_log_det_jacobian(z, event_ndims=0)\n",
        "log_prob_x"
      ],
      "execution_count": 15,
      "outputs": [
        {
          "output_type": "execute_result",
          "data": {
            "text/plain": [
              "<tf.Tensor: shape=(10000,), dtype=float32, numpy=\n",
              "array([-2.7358208, -2.5066967, -2.5222664, ..., -2.4347913, -2.5294187,\n",
              "       -2.4260144], dtype=float32)>"
            ]
          },
          "metadata": {
            "tags": []
          },
          "execution_count": 15
        }
      ]
    },
    {
      "cell_type": "code",
      "metadata": {
        "id": "d59VoBnuqyS6",
        "colab": {
          "base_uri": "https://localhost:8080/"
        },
        "outputId": "6c09ec72-519a-49e5-9dc3-9a51693bcf18"
      },
      "source": [
        "# We can also use the inverse transformation\n",
        "\n",
        "log_prob_x = normal.log_prob(scale_and_shift.inverse(x)) + scale_and_shift.inverse_log_det_jacobian(x, event_ndims=0)\n",
        "log_prob_x"
      ],
      "execution_count": 16,
      "outputs": [
        {
          "output_type": "execute_result",
          "data": {
            "text/plain": [
              "<tf.Tensor: shape=(10000,), dtype=float32, numpy=\n",
              "array([-2.7358208, -2.5066967, -2.5222664, ..., -2.4347913, -2.5294187,\n",
              "       -2.4260144], dtype=float32)>"
            ]
          },
          "metadata": {
            "tags": []
          },
          "execution_count": 16
        }
      ]
    },
    {
      "cell_type": "markdown",
      "metadata": {
        "id": "TX4Pa-mhqyS8"
      },
      "source": [
        "### Broadcasting"
      ]
    },
    {
      "cell_type": "code",
      "metadata": {
        "id": "Bylt-_zRqyS9"
      },
      "source": [
        "x = tf.random.normal(shape=(100, 1))"
      ],
      "execution_count": 17,
      "outputs": []
    },
    {
      "cell_type": "code",
      "metadata": {
        "id": "ETxaa6c7qyS_",
        "colab": {
          "base_uri": "https://localhost:8080/"
        },
        "outputId": "c87ab986-a1f5-41a8-da5b-d749641d092a"
      },
      "source": [
        "# Softfloor bijector\n",
        "\n",
        "softfloor = tfb.Softfloor(temperature=0.01)\n",
        "y = softfloor.forward(x)\n",
        "print(y.shape)\n"
      ],
      "execution_count": 18,
      "outputs": [
        {
          "output_type": "stream",
          "text": [
            "(100, 1)\n"
          ],
          "name": "stdout"
        }
      ]
    },
    {
      "cell_type": "code",
      "metadata": {
        "id": "w39w_c3WqyTB",
        "colab": {
          "base_uri": "https://localhost:8080/"
        },
        "outputId": "cfcb0158-50c9-4490-b118-a92553196b4e"
      },
      "source": [
        "# Softfloor bijector using broadcasting\n",
        "\n",
        "softfloor = tfb.Softfloor(temperature=[0.2, 1.])\n",
        "y = softfloor.forward(x)\n",
        "print(y.shape)"
      ],
      "execution_count": 19,
      "outputs": [
        {
          "output_type": "stream",
          "text": [
            "(100, 2)\n"
          ],
          "name": "stdout"
        }
      ]
    },
    {
      "cell_type": "code",
      "metadata": {
        "id": "kTZoiF1AqyTE"
      },
      "source": [
        "# Softfloor bijector using broadcasting\n",
        "\n",
        "softfloor = tfb.Softfloor(temperature=[0.01, 0.1, 1.])"
      ],
      "execution_count": 20,
      "outputs": []
    },
    {
      "cell_type": "code",
      "metadata": {
        "id": "AwiBI1xsqyTG"
      },
      "source": [
        "# Plot routine\n",
        "\n",
        "def _plot(nparams, bijector, params, x):\n",
        "    bijector_params = tuple(getattr(bijector, name) for name in params)\n",
        "    upper_params = [name[0].upper() + name[1:] for name in params]\n",
        "    fig = plt.figure(figsize=(14, 5))\n",
        "    lines = plt.plot(np.tile(x, nparams), bijector.forward(x))\n",
        "    for l in zip(lines, *bijector_params):\n",
        "        labels = \": {:.2f}, \".join(upper_params) + ': {:.2f}'\n",
        "        l[0].set_label(labels.format(*l[1:]))\n",
        "    plt.legend()\n",
        "    plt.show()"
      ],
      "execution_count": 21,
      "outputs": []
    },
    {
      "cell_type": "code",
      "metadata": {
        "id": "eBwXfWLHqyTI",
        "colab": {
          "base_uri": "https://localhost:8080/",
          "height": 320
        },
        "outputId": "32aa40b4-315d-49c3-8c7d-70eed5122ec8"
      },
      "source": [
        "# Plot\n",
        "\n",
        "x = np.linspace(-2, 2, 2000)[..., np.newaxis]\n",
        "_plot(3, softfloor, ['temperature'], x)"
      ],
      "execution_count": 22,
      "outputs": [
        {
          "output_type": "display_data",
          "data": {
            "image/png": "[encoded data removed]",
            "text/plain": [
              "<Figure size 1008x360 with 1 Axes>"
            ]
          },
          "metadata": {
            "tags": [],
            "needs_background": "light"
          }
        }
      ]
    },
    {
      "cell_type": "code",
      "metadata": {
        "id": "U1aJ0CZ0qyTK"
      },
      "source": [
        "# Gumbel bijector using broadcasting\n",
        "\n",
        "exps = tfb.GumbelCDF(loc=[0.5, 1, 1.5, 2, 3], scale=[1, 2 , 2, 3, 4])"
      ],
      "execution_count": 23,
      "outputs": []
    },
    {
      "cell_type": "code",
      "metadata": {
        "id": "KK904tTZqyTM",
        "colab": {
          "base_uri": "https://localhost:8080/",
          "height": 320
        },
        "outputId": "fd05ff32-7367-40eb-93ca-5eb4b971e682"
      },
      "source": [
        "# Plot\n",
        "\n",
        "x = np.linspace(-10, 10, 2000, dtype=np.float32)[..., np.newaxis]\n",
        "_plot(5, exps, ['loc', 'scale'], x)"
      ],
      "execution_count": 24,
      "outputs": [
        {
          "output_type": "display_data",
          "data": {
            "image/png": "[encoded data removed]",
            "text/plain": [
              "<Figure size 1008x360 with 1 Axes>"
            ]
          },
          "metadata": {
            "tags": [],
            "needs_background": "light"
          }
        }
      ]
    },
    {
      "cell_type": "markdown",
      "metadata": {
        "id": "OZ-2ibBFqyTP"
      },
      "source": [
        "***\n",
        "<a id=\"coding_tutorial_2\"></a>\n",
        "## The TransformedDistribution class"
      ]
    },
    {
      "cell_type": "markdown",
      "metadata": {
        "id": "bWIFwTDdqyTP"
      },
      "source": [
        "### TransformedDistribution"
      ]
    },
    {
      "cell_type": "code",
      "metadata": {
        "id": "MkC4skb3qyTP"
      },
      "source": [
        "# Parameters\n",
        "\n",
        "n = 10000\n",
        "loc = 0\n",
        "scale = 0.5"
      ],
      "execution_count": 25,
      "outputs": []
    },
    {
      "cell_type": "code",
      "metadata": {
        "id": "jTAecDzMqyTS"
      },
      "source": [
        "# Normal distribution\n",
        "\n",
        "normal = tfd.Normal(loc=loc, scale=scale)"
      ],
      "execution_count": 26,
      "outputs": []
    },
    {
      "cell_type": "code",
      "metadata": {
        "id": "MYxeM2L9qyTV",
        "colab": {
          "base_uri": "https://localhost:8080/"
        },
        "outputId": "525a8c07-636b-4186-e1dc-e00de94df3b1"
      },
      "source": [
        "# Display event and batch shape\n",
        "\n",
        "print('batch shape: ', normal.batch_shape)\n",
        "print('event shape: ', normal.event_shape)"
      ],
      "execution_count": 27,
      "outputs": [
        {
          "output_type": "stream",
          "text": [
            "batch shape:  ()\n",
            "event shape:  ()\n"
          ],
          "name": "stdout"
        }
      ]
    },
    {
      "cell_type": "code",
      "metadata": {
        "id": "FTnmDabyqyTW"
      },
      "source": [
        "# Exponential bijector\n",
        "\n",
        "exp = tfb.Exp()"
      ],
      "execution_count": 28,
      "outputs": []
    },
    {
      "cell_type": "code",
      "metadata": {
        "id": "bRUNwCsDqyTY"
      },
      "source": [
        "# Log normal transformed distribution using exp and normal bijectors\n",
        "\n",
        "log_normal_td = exp(normal)"
      ],
      "execution_count": 29,
      "outputs": []
    },
    {
      "cell_type": "code",
      "metadata": {
        "id": "klj7vbeoqyTb",
        "colab": {
          "base_uri": "https://localhost:8080/"
        },
        "outputId": "8d3a4964-25da-4975-e471-df589e70a578"
      },
      "source": [
        "# Display event and batch shape\n",
        "print('batch shape: ', log_normal_td.batch_shape)\n",
        "print('event shape: ', log_normal_td.event_shape)\n"
      ],
      "execution_count": 30,
      "outputs": [
        {
          "output_type": "stream",
          "text": [
            "batch shape:  ()\n",
            "event shape:  ()\n"
          ],
          "name": "stdout"
        }
      ]
    },
    {
      "cell_type": "code",
      "metadata": {
        "id": "PuuSQJMxqyTf"
      },
      "source": [
        "# Base distribution\n",
        "\n",
        "z = normal.sample(n)"
      ],
      "execution_count": 31,
      "outputs": []
    },
    {
      "cell_type": "markdown",
      "metadata": {
        "id": "fjaV0vv8qyTh"
      },
      "source": [
        "#### Plots"
      ]
    },
    {
      "cell_type": "code",
      "metadata": {
        "id": "5vsevwMmqyTh",
        "colab": {
          "base_uri": "https://localhost:8080/",
          "height": 265
        },
        "outputId": "131f926c-7942-4e5b-98da-a12874405375"
      },
      "source": [
        "# Plot z density\n",
        "plt.hist(z, bins=100, density=True)\n",
        "plt.show()\n"
      ],
      "execution_count": 34,
      "outputs": [
        {
          "output_type": "display_data",
          "data": {
            "image/png": "[encoded data removed]",
            "text/plain": [
              "<Figure size 432x288 with 1 Axes>"
            ]
          },
          "metadata": {
            "tags": [],
            "needs_background": "light"
          }
        }
      ]
    },
    {
      "cell_type": "code",
      "metadata": {
        "id": "Upg79Mg5qyTj"
      },
      "source": [
        "# Transformed distribution\n",
        "\n",
        "x = log_normal_td.sample(n)"
      ],
      "execution_count": 35,
      "outputs": []
    },
    {
      "cell_type": "code",
      "metadata": {
        "id": "GPbS_5vhqyTl",
        "colab": {
          "base_uri": "https://localhost:8080/",
          "height": 265
        },
        "outputId": "c89c8b2c-b0ff-4694-912a-dbd5dd421885"
      },
      "source": [
        "# Plot x density\n",
        "\n",
        "plt.hist(x, bins=100, density=True)\n",
        "plt.show()"
      ],
      "execution_count": 36,
      "outputs": [
        {
          "output_type": "display_data",
          "data": {
            "image/png": "[encoded data removed]",
            "text/plain": [
              "<Figure size 432x288 with 1 Axes>"
            ]
          },
          "metadata": {
            "tags": [],
            "needs_background": "light"
          }
        }
      ]
    },
    {
      "cell_type": "code",
      "metadata": {
        "id": "TIF-JCclqyTm"
      },
      "source": [
        "# Define log normal distribution\n",
        "\n",
        "log_normal = tfd.LogNormal(loc=loc, scale=scale)"
      ],
      "execution_count": 38,
      "outputs": []
    },
    {
      "cell_type": "code",
      "metadata": {
        "id": "SphofY4BqyTp"
      },
      "source": [
        "# Sample log_normal\n",
        "l = log_normal.sample(n)\n"
      ],
      "execution_count": 39,
      "outputs": []
    },
    {
      "cell_type": "code",
      "metadata": {
        "id": "QByGzaCxqyTs",
        "colab": {
          "base_uri": "https://localhost:8080/",
          "height": 265
        },
        "outputId": "e4e3166b-88d5-4648-cd08-04c9b4921d39"
      },
      "source": [
        "# Plot l density\n",
        "plt.hist(l, bins=100, density=True)\n",
        "plt.show()\n"
      ],
      "execution_count": 40,
      "outputs": [
        {
          "output_type": "display_data",
          "data": {
            "image/png": "[encoded data removed]",
            "text/plain": [
              "<Figure size 432x288 with 1 Axes>"
            ]
          },
          "metadata": {
            "tags": [],
            "needs_background": "light"
          }
        }
      ]
    },
    {
      "cell_type": "markdown",
      "metadata": {
        "id": "YYtqzyA-qyTt"
      },
      "source": [
        "#### Log probability"
      ]
    },
    {
      "cell_type": "code",
      "metadata": {
        "id": "l9Frh0AIqyTu"
      },
      "source": [
        "# Log prob of LogNormal\n",
        "\n",
        "log_prob = log_normal.log_prob(x)"
      ],
      "execution_count": 41,
      "outputs": []
    },
    {
      "cell_type": "code",
      "metadata": {
        "id": "K-xNVY4jqyTv"
      },
      "source": [
        "# Log prob of log normal transformed distribution\n",
        "\n",
        "log_pro_td = log_normal.log_prob(x)"
      ],
      "execution_count": 42,
      "outputs": []
    },
    {
      "cell_type": "code",
      "metadata": {
        "id": "JinGI17bqyTx",
        "colab": {
          "base_uri": "https://localhost:8080/"
        },
        "outputId": "f370f550-37e9-4873-b7d5-b8bb78c6fb36"
      },
      "source": [
        "# Check log probs\n",
        "tf.norm(log_prob - log_pro_td)\n"
      ],
      "execution_count": 44,
      "outputs": [
        {
          "output_type": "execute_result",
          "data": {
            "text/plain": [
              "<tf.Tensor: shape=(), dtype=float32, numpy=0.0>"
            ]
          },
          "metadata": {
            "tags": []
          },
          "execution_count": 44
        }
      ]
    },
    {
      "cell_type": "markdown",
      "metadata": {
        "id": "oEjWcd6KqyT0"
      },
      "source": [
        "### Event shape and batch shape"
      ]
    },
    {
      "cell_type": "code",
      "metadata": {
        "id": "YNPyJmH8qyT0"
      },
      "source": [
        "# Set a scaling lower triangular matrix\n",
        "\n",
        "tril = tf.random.normal((2, 4, 4))\n",
        "scale_low_tri = tf.linalg.LinearOperatorLowerTriangular(tril)"
      ],
      "execution_count": 46,
      "outputs": []
    },
    {
      "cell_type": "code",
      "metadata": {
        "id": "feEjq5cJqyT2",
        "colab": {
          "base_uri": "https://localhost:8080/"
        },
        "outputId": "00844ab9-a7cb-483f-f26c-e26dd434f4cb"
      },
      "source": [
        "# View of scale_low_tri\n",
        "scale_low_tri.to_dense()\n"
      ],
      "execution_count": 47,
      "outputs": [
        {
          "output_type": "execute_result",
          "data": {
            "text/plain": [
              "<tf.Tensor: shape=(2, 4, 4), dtype=float32, numpy=\n",
              "array([[[-2.1528475 ,  0.        ,  0.        ,  0.        ],\n",
              "        [ 1.4370655 ,  1.1895441 ,  0.        ,  0.        ],\n",
              "        [-0.6183463 ,  2.7337418 , -0.6885189 ,  0.        ],\n",
              "        [ 1.3682584 ,  0.87175184,  0.4482748 ,  1.6846092 ]],\n",
              "\n",
              "       [[ 1.3754512 ,  0.        ,  0.        ,  0.        ],\n",
              "        [-0.52748406,  0.07221349,  0.        ,  0.        ],\n",
              "        [ 0.8162474 , -0.24497908,  0.16132137,  0.        ],\n",
              "        [ 0.15257595, -0.472404  ,  1.5178438 ,  0.66498286]]],\n",
              "      dtype=float32)>"
            ]
          },
          "metadata": {
            "tags": []
          },
          "execution_count": 47
        }
      ]
    },
    {
      "cell_type": "code",
      "metadata": {
        "id": "0Hql45GcqyT6"
      },
      "source": [
        "# Define scale linear operator\n",
        "\n",
        "scale_linear_operator = tfb.ScaleMatvecLinearOperator(scale_low_tri)"
      ],
      "execution_count": 48,
      "outputs": []
    },
    {
      "cell_type": "code",
      "metadata": {
        "id": "ph0lmqLIqyT7",
        "colab": {
          "base_uri": "https://localhost:8080/"
        },
        "outputId": "4c0786d8-1725-467d-d9ba-e12f08784f77"
      },
      "source": [
        "# Define scale linear operator transformed distribution with a batch and event shape\n",
        "\n",
        "mvn = tfd.TransformedDistribution(normal, scale_linear_operator) #, batch_shape=[2], event_shape=[4])\n",
        "mvn"
      ],
      "execution_count": 54,
      "outputs": [
        {
          "output_type": "execute_result",
          "data": {
            "text/plain": [
              "<tfp.distributions.TransformedDistribution 'scale_matvec_linear_operatorNormal' batch_shape=[] event_shape=[] dtype=float32>"
            ]
          },
          "metadata": {
            "tags": []
          },
          "execution_count": 54
        }
      ]
    },
    {
      "cell_type": "code",
      "metadata": {
        "id": "fBojWcgzqyT-",
        "colab": {
          "base_uri": "https://localhost:8080/"
        },
        "outputId": "bd77a3ef-26d2-477e-a3e1-1974ee5d11b9"
      },
      "source": [
        "# Display event and batch shape\n",
        "\n",
        "print('batch shape: ', mvn.batch_shape)\n",
        "print('event shape: ', mvn.event_shape)"
      ],
      "execution_count": 55,
      "outputs": [
        {
          "output_type": "stream",
          "text": [
            "batch shape:  ()\n",
            "event shape:  ()\n"
          ],
          "name": "stdout"
        }
      ]
    },
    {
      "cell_type": "markdown",
      "metadata": {
        "id": "FShWrkqaqyUN"
      },
      "source": [
        "***\n",
        "<a id=\"coding_tutorial_3\"></a>\n",
        "## Subclassing bijectors"
      ]
    },
    {
      "cell_type": "code",
      "metadata": {
        "id": "mfApknEiqyUN"
      },
      "source": [
        "# Define a new bijector: Cubic\n",
        "\n",
        "class Cubic(tfb.Bijector):\n",
        "\n",
        "    def __init__(self, a, b, validate_args=False, name='Cubic'):\n",
        "        self.a = tf.cast(a, tf.float32)\n",
        "        self.b = tf.cast(b, tf.float32)\n",
        "        if validate_args:\n",
        "            assert tf.reduce_mean(tf.cast(tf.math.greater_equal(tf.abs(self.a), 1e-5), tf.float32)) == 1.0\n",
        "            assert tf.reduce_mean(tf.cast(tf.math.greater_equal(tf.abs(self.b), 1e-5), tf.float32)) == 1.0\n",
        "        super(Cubic, self).__init__(\n",
        "            validate_args=validate_args, forward_min_event_ndims=0, name=name)\n"
      ],
      "execution_count": null,
      "outputs": []
    },
    {
      "cell_type": "code",
      "metadata": {
        "id": "61v6_UadqyUO"
      },
      "source": [
        "# Cubic bijector\n",
        "\n"
      ],
      "execution_count": null,
      "outputs": []
    },
    {
      "cell_type": "code",
      "metadata": {
        "id": "dP0KVSPAqyUQ"
      },
      "source": [
        "# Apply forward transformation\n",
        "\n"
      ],
      "execution_count": null,
      "outputs": []
    },
    {
      "cell_type": "code",
      "metadata": {
        "id": "-JOM7vN5qyUR"
      },
      "source": [
        "# Check inverse\n",
        "\n"
      ],
      "execution_count": null,
      "outputs": []
    },
    {
      "cell_type": "markdown",
      "metadata": {
        "id": "q6Fm70pBqyUU"
      },
      "source": [
        "#### Function plots"
      ]
    },
    {
      "cell_type": "code",
      "metadata": {
        "id": "qacTwL10qyUV"
      },
      "source": [
        "# Plot the forward transformation\n",
        "\n",
        "x = np.linspace(-10, 10, 500).reshape(-1, 1)"
      ],
      "execution_count": null,
      "outputs": []
    },
    {
      "cell_type": "code",
      "metadata": {
        "id": "DflIQl4zqyUW"
      },
      "source": [
        "# Display shape\n",
        "\n"
      ],
      "execution_count": null,
      "outputs": []
    },
    {
      "cell_type": "code",
      "metadata": {
        "id": "uAwqKnCfqyUZ"
      },
      "source": [
        "# Plot the inverse\n",
        "\n"
      ],
      "execution_count": null,
      "outputs": []
    },
    {
      "cell_type": "code",
      "metadata": {
        "id": "-GEn9ID8qyUb"
      },
      "source": [
        "# Plot the forward log Jacobian determinant\n",
        "\n"
      ],
      "execution_count": null,
      "outputs": []
    },
    {
      "cell_type": "code",
      "metadata": {
        "id": "OjCMa4EUqyUd"
      },
      "source": [
        "# Plot the inverse log Jacobian determinant\n",
        "\n"
      ],
      "execution_count": null,
      "outputs": []
    },
    {
      "cell_type": "markdown",
      "metadata": {
        "id": "fw7wNX9hqyUf"
      },
      "source": [
        "#### TransformedDistribution and plots"
      ]
    },
    {
      "cell_type": "code",
      "metadata": {
        "id": "FmdHPhMGqyUf"
      },
      "source": [
        "# Create a transformed distribution with Cubic\n",
        "\n"
      ],
      "execution_count": null,
      "outputs": []
    },
    {
      "cell_type": "code",
      "metadata": {
        "id": "vogUAeM4qyUg"
      },
      "source": [
        "# Sample cubed_normal\n",
        "\n"
      ],
      "execution_count": null,
      "outputs": []
    },
    {
      "cell_type": "code",
      "metadata": {
        "id": "_z33eU-iqyUi"
      },
      "source": [
        "# Plot histograms\n",
        "\n",
        "plt.figure(figsize=(12, 4))\n",
        "plt.subplot(1, 2, 1)\n",
        "plt.hist(g[..., 0], bins=50, density=True)\n",
        "plt.subplot(1, 2, 2)\n",
        "plt.hist(g[..., 1], bins=50, density=True)\n",
        "plt.show()"
      ],
      "execution_count": null,
      "outputs": []
    },
    {
      "cell_type": "code",
      "metadata": {
        "id": "RlnwzvOxqyUj"
      },
      "source": [
        "# Make contour plot\n",
        "\n",
        "xx = np.linspace(-0.5, 0.5, 100)\n",
        "yy = np.linspace(-0.5, 0.5, 100)\n",
        "X, Y = np.meshgrid(xx, yy)\n",
        "\n",
        "fig,ax=plt.subplots(1,1)\n",
        "Z = cubed_normal.prob(np.dstack((X, Y)))\n",
        "cp = ax.contourf(X, Y, Z)\n",
        "fig.colorbar(cp) # Add a colorbar to a plot\n",
        "ax.set_title('Filled Contours Plot')\n",
        "ax.set_xlabel('x')\n",
        "ax.set_ylabel('y')\n",
        "plt.show()"
      ],
      "execution_count": null,
      "outputs": []
    },
    {
      "cell_type": "code",
      "metadata": {
        "id": "ehElEd0FqyUl"
      },
      "source": [
        "# Create a transformed distribution with the inverse of Cube\n",
        "\n"
      ],
      "execution_count": null,
      "outputs": []
    },
    {
      "cell_type": "code",
      "metadata": {
        "id": "6KYCX9P1qyUm"
      },
      "source": [
        "# Samble inv_cubed_normal\n",
        "\n"
      ],
      "execution_count": null,
      "outputs": []
    },
    {
      "cell_type": "code",
      "metadata": {
        "id": "t49rULQ_qyUn"
      },
      "source": [
        "# Make contour plot\n",
        "\n",
        "xx = np.linspace(-3.0, 3.0, 100)\n",
        "yy = np.linspace(-2.0, 2.0, 100)\n",
        "X, Y = np.meshgrid(xx, yy)\n",
        "\n",
        "fig,ax=plt.subplots(1,1)\n",
        "Z = inv_cubed_normal.prob(np.dstack((X, Y)))\n",
        "cp = ax.contourf(X, Y, Z)\n",
        "fig.colorbar(cp) # Add a colorbar to a plot\n",
        "ax.set_title('Filled Contours Plot')\n",
        "ax.set_xlabel('x')\n",
        "ax.set_ylabel('y')\n",
        "plt.show()"
      ],
      "execution_count": null,
      "outputs": []
    },
    {
      "cell_type": "code",
      "metadata": {
        "id": "fTyvYmUHqyUp"
      },
      "source": [
        "# Plot histograms\n",
        "\n",
        "plt.figure(figsize=(12, 4))\n",
        "plt.subplot(1, 2, 1)\n",
        "plt.hist(g[..., 0], bins=50, density=True)\n",
        "plt.subplot(1, 2, 2)\n",
        "plt.hist(g[..., 1], bins=50, density=True)\n",
        "plt.show()"
      ],
      "execution_count": null,
      "outputs": []
    },
    {
      "cell_type": "markdown",
      "metadata": {
        "id": "fHx5KxujqyUq"
      },
      "source": [
        "#### Training the bijector"
      ]
    },
    {
      "cell_type": "code",
      "metadata": {
        "id": "J7VvHu5CqyUs"
      },
      "source": [
        "# Create a mixture of four Gaussians\n",
        "\n"
      ],
      "execution_count": null,
      "outputs": []
    },
    {
      "cell_type": "code",
      "metadata": {
        "id": "nmqyyHeTqyUt"
      },
      "source": [
        "# Create the dataset\n",
        "\n",
        "x_train = mix_gauss.sample(10000)\n",
        "x_train = tf.data.Dataset.from_tensor_slices(x_train)\n",
        "x_train = x_train.batch(128)\n",
        "\n",
        "x_valid = mix_gauss.sample(1000)\n",
        "x_valid = tf.data.Dataset.from_tensor_slices(x_valid)\n",
        "x_valid = x_valid.batch(128)\n",
        "\n",
        "print(x_train.element_spec)\n",
        "print(x_valid.element_spec)"
      ],
      "execution_count": null,
      "outputs": []
    },
    {
      "cell_type": "code",
      "metadata": {
        "id": "JMno9UzMqyUu"
      },
      "source": [
        "# Plot the data distribution\n",
        "\n"
      ],
      "execution_count": null,
      "outputs": []
    },
    {
      "cell_type": "code",
      "metadata": {
        "id": "4LH4I4KVqyUw"
      },
      "source": [
        "# Make a trainable bijector\n",
        "\n"
      ],
      "execution_count": null,
      "outputs": []
    },
    {
      "cell_type": "code",
      "metadata": {
        "id": "WG6crdTvqyUx"
      },
      "source": [
        "# Make a trainable transformed distribution\n",
        "\n"
      ],
      "execution_count": null,
      "outputs": []
    },
    {
      "cell_type": "code",
      "metadata": {
        "id": "Hr6-oaz8qyUy"
      },
      "source": [
        "# Plot the data and learned distributions\n",
        "\n"
      ],
      "execution_count": null,
      "outputs": []
    },
    {
      "cell_type": "code",
      "metadata": {
        "id": "zdxDCN9aqyU0"
      },
      "source": [
        "# Train the bijector\n",
        "\n",
        "num_epochs = 10\n",
        "opt = tf.keras.optimizers.Adam()\n",
        "train_losses = []\n",
        "valid_losses = []\n",
        "\n",
        "for epoch in range(num_epochs):\n",
        "    print(\"Epoch {}...\".format(epoch))\n",
        "    train_loss = tf.keras.metrics.Mean()\n",
        "    val_loss = tf.keras.metrics.Mean()\n",
        "    for train_batch in x_train:\n",
        "        with tf.GradientTape() as tape:\n",
        "            tape.watch(trainable_inv_cubic.trainable_variables)\n",
        "            loss = -trainable_dist.log_prob(train_batch)\n",
        "        train_loss(loss)\n",
        "        grads = tape.gradient(loss, trainable_inv_cubic.trainable_variables)\n",
        "        opt.apply_gradients(zip(grads, trainable_inv_cubic.trainable_variables))\n",
        "    train_losses.append(train_loss.result().numpy())\n",
        "        \n",
        "    # Validation\n",
        "    for valid_batch in x_valid:\n",
        "        loss = -trainable_dist.log_prob(valid_batch)\n",
        "        val_loss(loss)\n",
        "    valid_losses.append(val_loss.result().numpy())"
      ],
      "execution_count": null,
      "outputs": []
    },
    {
      "cell_type": "code",
      "metadata": {
        "id": "n-90MDohqyU1"
      },
      "source": [
        "# Plot the learning curves\n",
        "\n",
        "plt.plot(train_losses, label='train')\n",
        "plt.plot(valid_losses, label='valid')\n",
        "plt.legend()\n",
        "plt.xlabel(\"Epochs\")\n",
        "plt.ylabel(\"Negative log likelihood\")\n",
        "plt.title(\"Training and validation loss curves\")\n",
        "plt.show()"
      ],
      "execution_count": null,
      "outputs": []
    },
    {
      "cell_type": "code",
      "metadata": {
        "id": "wZF_T5-aqyU3"
      },
      "source": [
        "# Plot the data and learned distributions\n",
        "\n"
      ],
      "execution_count": null,
      "outputs": []
    },
    {
      "cell_type": "code",
      "metadata": {
        "id": "W498x2lrqyU4"
      },
      "source": [
        "# Display trainable variables\n",
        "\n"
      ],
      "execution_count": null,
      "outputs": []
    },
    {
      "cell_type": "markdown",
      "metadata": {
        "id": "_ggueBWOqyU5"
      },
      "source": [
        "***\n",
        "<a id=\"coding_tutorial_4\"></a>\n",
        "## Normalising flows"
      ]
    },
    {
      "cell_type": "code",
      "metadata": {
        "id": "lf4w-RPtqyU7"
      },
      "source": [
        "# Load dataset\n",
        "\n",
        "from sklearn import datasets\n",
        "from sklearn.preprocessing import StandardScaler\n",
        "n_samples = 1000\n",
        "noisy_moons = datasets.make_moons(n_samples=n_samples, noise=.05)\n",
        "X, y = noisy_moons\n",
        "X_data = StandardScaler().fit_transform(X)\n",
        "xlim, ylim = [-2, 2], [-2, 2]"
      ],
      "execution_count": null,
      "outputs": []
    },
    {
      "cell_type": "code",
      "metadata": {
        "id": "EoSWeEBLqyU8"
      },
      "source": [
        "# Plot with labels\n",
        "\n",
        "y_label = y.astype(np.bool)\n",
        "X_train, Y_train = X_data[..., 0], X_data[..., 1]\n",
        "plt.scatter(X_train[y_label], Y_train[y_label], s=10, color='blue')\n",
        "plt.scatter(X_train[y_label == False], Y_train[y_label == False], s=10, color='red')\n",
        "plt.legend(['label: 1', 'label: 0'])\n",
        "plt.xlim(xlim)\n",
        "plt.ylim(ylim)"
      ],
      "execution_count": null,
      "outputs": []
    },
    {
      "cell_type": "code",
      "metadata": {
        "id": "1S5R9vFsqyU-"
      },
      "source": [
        "# Define base distribution\n",
        "\n"
      ],
      "execution_count": null,
      "outputs": []
    },
    {
      "cell_type": "code",
      "metadata": {
        "id": "yukChitnqyVA"
      },
      "source": [
        "# Define the trainable distribution\n",
        "\n"
      ],
      "execution_count": null,
      "outputs": []
    },
    {
      "cell_type": "code",
      "metadata": {
        "id": "HNuYzlWfqyVC"
      },
      "source": [
        "from mpl_toolkits.axes_grid1 import make_axes_locatable\n",
        "from tensorflow.compat.v1 import logging\n",
        "logging.set_verbosity(logging.ERROR)"
      ],
      "execution_count": null,
      "outputs": []
    },
    {
      "cell_type": "code",
      "metadata": {
        "id": "0H9N-DsPqyVD"
      },
      "source": [
        "# Define a plot contour routine\n",
        "\n",
        "def plot_contour_prob(dist, rows=1, title=[''], scale_fig=4):\n",
        "    cols = int(len(dist) / rows)\n",
        "    xx = np.linspace(-5.0, 5.0, 100)\n",
        "    yy = np.linspace(-5.0, 5.0, 100)\n",
        "    X, Y = np.meshgrid(xx, yy)\n",
        "\n",
        "    fig, ax = plt.subplots(rows, cols, figsize=(scale_fig * cols, scale_fig * rows))\n",
        "    fig.tight_layout(pad=4.5)\n",
        "\n",
        "    i = 0\n",
        "    for r in range(rows):\n",
        "        for c in range(cols):\n",
        "            Z = dist[i].prob(np.dstack((X, Y)))\n",
        "            if len(dist) == 1:\n",
        "                axi = ax\n",
        "            elif rows == 1:\n",
        "                axi = ax[c]\n",
        "            else:\n",
        "                axi = ax[r, c]\n",
        "\n",
        "            # Plot contour\n",
        "            p = axi.contourf(X, Y, Z)\n",
        "\n",
        "            # Add a colorbar\n",
        "            divider = make_axes_locatable(axi)\n",
        "            cax = divider.append_axes(\"right\", size=\"5%\", pad=0.1)\n",
        "            cbar = fig.colorbar(p, cax=cax)\n",
        "\n",
        "            # Set title and labels\n",
        "            axi.set_title('Filled Contours Plot: ' + str(title[i]))\n",
        "            axi.set_xlabel('x')\n",
        "            axi.set_ylabel('y')\n",
        "\n",
        "            i += 1\n",
        "    plt.show()"
      ],
      "execution_count": null,
      "outputs": []
    },
    {
      "cell_type": "code",
      "metadata": {
        "id": "44oF42rqqyVE"
      },
      "source": [
        "# Plot contour\n",
        "\n"
      ],
      "execution_count": null,
      "outputs": []
    },
    {
      "cell_type": "code",
      "metadata": {
        "id": "72Wq79I-qyVH"
      },
      "source": [
        "from tensorflow.keras.layers import Input\n",
        "from tensorflow.keras import Model"
      ],
      "execution_count": null,
      "outputs": []
    },
    {
      "cell_type": "code",
      "metadata": {
        "id": "OcDJOfGvqyVI"
      },
      "source": [
        "# Make samples\n",
        "\n"
      ],
      "execution_count": null,
      "outputs": []
    },
    {
      "cell_type": "code",
      "metadata": {
        "id": "OGIJqluXqyVK"
      },
      "source": [
        "# Define a scatter plot routine for the bijectors\n",
        "\n",
        "def _plot(results, rows=1, legend=False):\n",
        "    cols = int(len(results) / rows)\n",
        "    f, arr = plt.subplots(rows, cols, figsize=(4 * cols, 4 * rows))\n",
        "    i = 0\n",
        "    for r in range(rows):\n",
        "        for c in range(cols):\n",
        "            res = results[i]\n",
        "            X, Y = res[..., 0].numpy(), res[..., 1].numpy()\n",
        "            if rows == 1:\n",
        "                p = arr[c]\n",
        "            else:\n",
        "                p = arr[r, c]\n",
        "            p.scatter(X, Y, s=10, color='red')\n",
        "            p.set_xlim([-5, 5])\n",
        "            p.set_ylim([-5, 5])\n",
        "            p.set_title(names[i])\n",
        "            \n",
        "            i += 1"
      ],
      "execution_count": null,
      "outputs": []
    },
    {
      "cell_type": "code",
      "metadata": {
        "id": "7XJkvd0DqyVL"
      },
      "source": [
        "# Plot\n",
        "\n"
      ],
      "execution_count": null,
      "outputs": []
    },
    {
      "cell_type": "markdown",
      "metadata": {
        "id": "qVUEl_FuqyVM"
      },
      "source": [
        "#### Training a MaskedAutoregressiveFlow bijector"
      ]
    },
    {
      "cell_type": "code",
      "metadata": {
        "id": "XcKcNND0qyVM"
      },
      "source": [
        "from tensorflow.keras.callbacks import LambdaCallback"
      ],
      "execution_count": null,
      "outputs": []
    },
    {
      "cell_type": "code",
      "metadata": {
        "id": "X9xg-02vqyVO"
      },
      "source": [
        "# Define a training routine\n",
        "\n",
        "def train_dist_routine(trainable_distribution, n_epochs=200, batch_size=None, n_disp=100):\n",
        "    x_ = Input(shape=(2,), dtype=tf.float32)\n",
        "    log_prob_ = trainable_distribution.log_prob(x_)\n",
        "    model = Model(x_, log_prob_)\n",
        "\n",
        "    model.compile(optimizer=tf.optimizers.Adam(),\n",
        "                  loss=lambda _, log_prob: -log_prob)\n",
        "\n",
        "    ns = X_data.shape[0]\n",
        "    if batch_size is None:\n",
        "        batch_size = ns\n",
        "\n",
        "    # Display the loss every n_disp epoch\n",
        "    epoch_callback = LambdaCallback(\n",
        "        on_epoch_end=lambda epoch, logs: \n",
        "                        print('\\n Epoch {}/{}'.format(epoch+1, n_epochs, logs),\n",
        "                              '\\n\\t ' + (': {:.4f}, '.join(logs.keys()) + ': {:.4f}').format(*logs.values()))\n",
        "                                       if epoch % n_disp == 0 else False \n",
        "    )\n",
        "\n",
        "\n",
        "    history = model.fit(x=X_data,\n",
        "                        y=np.zeros((ns, 0), dtype=np.float32),\n",
        "                        batch_size=batch_size,\n",
        "                        epochs=n_epochs,\n",
        "                        validation_split=0.2,\n",
        "                        shuffle=True,\n",
        "                        verbose=False,\n",
        "                        callbacks=[epoch_callback])\n",
        "    return history"
      ],
      "execution_count": null,
      "outputs": []
    },
    {
      "cell_type": "code",
      "metadata": {
        "id": "fFbqlQsDqyVP"
      },
      "source": [
        "# Train the distribution\n",
        "\n"
      ],
      "execution_count": null,
      "outputs": []
    },
    {
      "cell_type": "code",
      "metadata": {
        "id": "UYqVhr02qyVR"
      },
      "source": [
        "# Get losses\n",
        "\n",
        "train_losses = history.history['loss']\n",
        "valid_losses = history.history['val_loss']"
      ],
      "execution_count": null,
      "outputs": []
    },
    {
      "cell_type": "code",
      "metadata": {
        "id": "c_r1WhYMqyVS"
      },
      "source": [
        "# Plot loss vs epoch\n",
        "\n",
        "plt.plot(train_losses, label='train')\n",
        "plt.plot(valid_losses, label='valid')\n",
        "plt.legend()\n",
        "plt.xlabel(\"Epochs\")\n",
        "plt.ylabel(\"Negative log likelihood\")\n",
        "plt.title(\"Training and validation loss curves\")\n",
        "plt.show()"
      ],
      "execution_count": null,
      "outputs": []
    },
    {
      "cell_type": "code",
      "metadata": {
        "id": "Kt8EddLxqyVU"
      },
      "source": [
        "# Make samples\n",
        "\n"
      ],
      "execution_count": null,
      "outputs": []
    },
    {
      "cell_type": "code",
      "metadata": {
        "id": "wLDj22cMqyVW"
      },
      "source": [
        "# Plot\n",
        "\n"
      ],
      "execution_count": null,
      "outputs": []
    },
    {
      "cell_type": "code",
      "metadata": {
        "id": "paVq1v0hqyVY"
      },
      "source": [
        "# Define a plot routine\n",
        "\n",
        "def visualize_training_data(samples):\n",
        "    f, arr = plt.subplots(1, 2, figsize=(15, 6))\n",
        "    names = ['Data', 'Trainable']\n",
        "    samples = [tf.constant(X_data), samples[-1]]\n",
        "\n",
        "    for i in range(2):\n",
        "        res = samples[i]\n",
        "        X, Y = res[..., 0].numpy(), res[..., 1].numpy()\n",
        "        arr[i].scatter(X, Y, s=10, color='red')\n",
        "        arr[i].set_xlim([-2, 2])\n",
        "        arr[i].set_ylim([-2, 2])\n",
        "        arr[i].set_title(names[i])\n",
        "\n",
        "visualize_training_data(samples)"
      ],
      "execution_count": null,
      "outputs": []
    },
    {
      "cell_type": "code",
      "metadata": {
        "id": "M4cLbKdeqyVa"
      },
      "source": [
        "# Plot contour\n",
        "\n"
      ],
      "execution_count": null,
      "outputs": []
    },
    {
      "cell_type": "markdown",
      "metadata": {
        "id": "MV74vXBYqyVb"
      },
      "source": [
        "#### Training a chain of MaskedAutoregressiveFlow bijectors"
      ]
    },
    {
      "cell_type": "code",
      "metadata": {
        "id": "CY-wC-KlqyVb"
      },
      "source": [
        "# Define a more expressive model\n",
        "\n"
      ],
      "execution_count": null,
      "outputs": []
    },
    {
      "cell_type": "code",
      "metadata": {
        "id": "NJpc214EqyVc"
      },
      "source": [
        "# Define the trainable distribution\n",
        "\n"
      ],
      "execution_count": null,
      "outputs": []
    },
    {
      "cell_type": "code",
      "metadata": {
        "id": "-BpDIWDYqyVd"
      },
      "source": [
        "# Make samples\n",
        "\n",
        "def make_samples():\n",
        "    x = base_distribution.sample((1000, 2))\n",
        "    samples = [x]\n",
        "    names = [base_distribution.name]\n",
        "    for bijector in reversed(trainable_distribution.bijector.bijectors):\n",
        "        x = bijector.forward(x)\n",
        "        samples.append(x)\n",
        "        names.append(bijector.name)\n",
        "    return names, samples\n",
        "\n",
        "names, samples = make_samples()"
      ],
      "execution_count": null,
      "outputs": []
    },
    {
      "cell_type": "code",
      "metadata": {
        "id": "vULwOEnBqyVf"
      },
      "source": [
        "# Plot\n",
        "\n"
      ],
      "execution_count": null,
      "outputs": []
    },
    {
      "cell_type": "code",
      "metadata": {
        "id": "bD3Iv--OqyVg"
      },
      "source": [
        "# Plot\n",
        "\n"
      ],
      "execution_count": null,
      "outputs": []
    },
    {
      "cell_type": "code",
      "metadata": {
        "id": "ODoyDXHVqyVh"
      },
      "source": [
        "# Train the distribution\n",
        "\n"
      ],
      "execution_count": null,
      "outputs": []
    },
    {
      "cell_type": "code",
      "metadata": {
        "id": "87-MiD_EqyVj"
      },
      "source": [
        "# Get losses\n",
        "\n",
        "train_losses = history.history['loss']\n",
        "valid_losses = history.history['val_loss']"
      ],
      "execution_count": null,
      "outputs": []
    },
    {
      "cell_type": "code",
      "metadata": {
        "id": "uq9fFP7kqyVk"
      },
      "source": [
        "# Plot loss vs epoch\n",
        "\n",
        "plt.plot(train_losses, label='train')\n",
        "plt.plot(valid_losses, label='valid')\n",
        "plt.legend()\n",
        "plt.xlabel(\"Epochs\")\n",
        "plt.ylabel(\"Negative log likelihood\")\n",
        "plt.title(\"Training and validation loss curves\")\n",
        "plt.show()"
      ],
      "execution_count": null,
      "outputs": []
    },
    {
      "cell_type": "code",
      "metadata": {
        "id": "swTZ4Db_qyVl"
      },
      "source": [
        "# Make samples and plot\n",
        "\n"
      ],
      "execution_count": null,
      "outputs": []
    },
    {
      "cell_type": "code",
      "metadata": {
        "id": "nNp-Kq7ZqyVm"
      },
      "source": [
        "# Plot\n",
        "\n"
      ],
      "execution_count": null,
      "outputs": []
    },
    {
      "cell_type": "code",
      "metadata": {
        "id": "fer7CuS4qyVo"
      },
      "source": [
        "# Plot\n",
        "\n"
      ],
      "execution_count": null,
      "outputs": []
    }
  ]
}